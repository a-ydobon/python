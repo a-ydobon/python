{
  "nbformat": 4,
  "nbformat_minor": 0,
  "metadata": {
    "colab": {
      "name": "python/videoScripts/2. DATA_1: 데이터의 기본형2편_숫자형.ipynb",
      "version": "0.3.2",
      "provenance": [],
      "include_colab_link": true
    },
    "kernelspec": {
      "name": "python3",
      "display_name": "Python 3"
    }
  },
  "cells": [
    {
      "cell_type": "markdown",
      "metadata": {
        "id": "view-in-github",
        "colab_type": "text"
      },
      "source": [
        "<a href=\"https://colab.research.google.com/github/a-ydobon/python/blob/master/python_videoScripts_2_DATA_1_%EB%8D%B0%EC%9D%B4%ED%84%B0%EC%9D%98_%EA%B8%B0%EB%B3%B8%ED%98%952%ED%8E%B8_%EC%88%AB%EC%9E%90%ED%98%95.ipynb\" target=\"_parent\"><img src=\"https://colab.research.google.com/assets/colab-badge.svg\" alt=\"Open In Colab\"/></a>"
      ]
    },
    {
      "cell_type": "markdown",
      "metadata": {
        "id": "ogyEe1pQE8FS",
        "colab_type": "text"
      },
      "source": [
        "# 데이터의 기본형2편_숫자형\n",
        "\n",
        "- 정수, integer\n",
        "- 소수, float\n",
        "- 문자, string\n",
        "- type()"
      ]
    },
    {
      "cell_type": "code",
      "metadata": {
        "id": "l5VSQI1aI2s6",
        "colab_type": "code",
        "outputId": "d349d037-8ff2-4e56-8512-e29e43ba794a",
        "colab": {
          "base_uri": "https://localhost:8080/",
          "height": 34
        }
      },
      "source": [
        "# 정수(integer): 1,2,3,10 등등\n",
        "\n",
        "10\n",
        "type(10)"
      ],
      "execution_count": 0,
      "outputs": [
        {
          "output_type": "execute_result",
          "data": {
            "text/plain": [
              "int"
            ]
          },
          "metadata": {
            "tags": []
          },
          "execution_count": 5
        }
      ]
    },
    {
      "cell_type": "code",
      "metadata": {
        "id": "4D4-_AdYI9fp",
        "colab_type": "code",
        "outputId": "bba02e49-97d1-443a-cca1-1f1d280de6dc",
        "colab": {
          "base_uri": "https://localhost:8080/",
          "height": 34
        }
      },
      "source": [
        "# 소수(float): 3.14, 123.65 등등\n",
        "3.14\n",
        "type(3.14)\n"
      ],
      "execution_count": 0,
      "outputs": [
        {
          "output_type": "execute_result",
          "data": {
            "text/plain": [
              "float"
            ]
          },
          "metadata": {
            "tags": []
          },
          "execution_count": 6
        }
      ]
    },
    {
      "cell_type": "code",
      "metadata": {
        "id": "Dj4MadpyJECu",
        "colab_type": "code",
        "outputId": "5bafc4cc-9a43-44c1-bda7-0c5f383a6119",
        "colab": {
          "base_uri": "https://localhost:8080/",
          "height": 34
        }
      },
      "source": [
        "# 문자열(string): 'hello world!', '안녕하세요, '%$@123', GutenTag', 등등\n",
        "'Hello world!'\n",
        "type('hello world')"
      ],
      "execution_count": 0,
      "outputs": [
        {
          "output_type": "execute_result",
          "data": {
            "text/plain": [
              "str"
            ]
          },
          "metadata": {
            "tags": []
          },
          "execution_count": 7
        }
      ]
    },
    {
      "cell_type": "code",
      "metadata": {
        "id": "dTMYTo_pJvSx",
        "colab_type": "code",
        "outputId": "4fdb29a6-e97f-483c-fc1b-4f5e136c1f6a",
        "colab": {
          "base_uri": "https://localhost:8080/",
          "height": 34
        }
      },
      "source": [
        "'안녕하세요, 이도본 입니다.'\n",
        "type('안녕하세요, 이도본 입니다.')"
      ],
      "execution_count": 0,
      "outputs": [
        {
          "output_type": "execute_result",
          "data": {
            "text/plain": [
              "str"
            ]
          },
          "metadata": {
            "tags": []
          },
          "execution_count": 8
        }
      ]
    },
    {
      "cell_type": "code",
      "metadata": {
        "id": "r5-sC38NJ0hC",
        "colab_type": "code",
        "colab": {}
      },
      "source": [
        "# 수고하셨습니다! "
      ],
      "execution_count": 0,
      "outputs": []
    }
  ]
}