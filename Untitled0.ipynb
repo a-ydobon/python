{
  "nbformat": 4,
  "nbformat_minor": 0,
  "metadata": {
    "colab": {
      "name": "Untitled0.ipynb",
      "version": "0.3.2",
      "provenance": [],
      "include_colab_link": true
    },
    "kernelspec": {
      "name": "python3",
      "display_name": "Python 3"
    }
  },
  "cells": [
    {
      "cell_type": "markdown",
      "metadata": {
        "id": "view-in-github",
        "colab_type": "text"
      },
      "source": [
        "<a href=\"https://colab.research.google.com/github/a-ydobon/python/blob/master/Untitled0.ipynb\" target=\"_parent\"><img src=\"https://colab.research.google.com/assets/colab-badge.svg\" alt=\"Open In Colab\"/></a>"
      ]
    },
    {
      "cell_type": "code",
      "metadata": {
        "id": "h6_MdhRXfS1S",
        "colab_type": "code",
        "colab": {
          "base_uri": "https://localhost:8080/",
          "height": 238
        },
        "outputId": "b3b66427-2641-4d7b-d8ad-bb020974d6d3"
      },
      "source": [
        "input_text = '''\n",
        "\n",
        "이번 비디오에서는, 리스트에 대하여 이야기하겠습니다.\n",
        "리스트는 파이선에서 가장 많이 사용되는 데이타 형식 중의 하나입니다.\n",
        "\n",
        "리스트는 다음과 같이 표현됩니다. \n",
        "리스트를 만들기 위해서는 대 가로가 필요합니다. \n",
        "\n",
        "이게 대 가로이고, 이게 중가로, 이게 소가로입니다.\n",
        "\n",
        "\n",
        "\n",
        "'''\n",
        "print(input_text)"
      ],
      "execution_count": 1,
      "outputs": [
        {
          "output_type": "stream",
          "text": [
            "\n",
            "\n",
            "이번 비디오에서는, 리스트에 대하여 이야기하겠습니다.\n",
            "리스트는 파이선에서 가장 많이 사용되는 데이타 형식 중의 하나입니다.\n",
            "\n",
            "리스트는 다음과 같이 표현됩니다. \n",
            "리스트를 만들기 위해서는 대 가로가 필요합니다. \n",
            "\n",
            "이게 대 가로이고, 이게 중가로, 이게 소가로입니다.\n",
            "\n",
            "\n",
            "\n",
            "\n"
          ],
          "name": "stdout"
        }
      ]
    },
    {
      "cell_type": "code",
      "metadata": {
        "id": "w9xLlqR4fWVF",
        "colab_type": "code",
        "colab": {
          "base_uri": "https://localhost:8080/",
          "height": 34
        },
        "outputId": "b23ceaa8-cb8e-47a0-94df-c5e3818841da"
      },
      "source": [
        "# 네이버 음성합성 Open API 예제\n",
        "import os\n",
        "import sys\n",
        "import urllib.request\n",
        "\n",
        "client_id = \"huowt0a9kj\"\n",
        "client_secret = \"2Tt8rVKSQHAbOY0hIbpcvied3BmyiRFXtDu0Ce6z\"\n",
        "\n",
        "    \n",
        "#encText = urllib.parse.quote(\"Camera Traps (or Wild Cams) enable the automatic collection of large quantities of image data. Biologists all over the world use camera traps to monitor biodiversity and population density of animal species. We have recently been making strides towards automating the species classification challenge in camera traps, but as we try to expand the scope of these models from specific regions where we have collected training data to nearby areas we are faced with an interesting probem: how do you classify a species in a new region that you may not have seen in previous training data?\")\n",
        "encText = urllib.parse.quote(input_text)\n",
        "\n",
        "data = \"speaker=mijin&speed=0&text=\" + encText;\n",
        "url = \"https://naveropenapi.apigw.ntruss.com/voice/v1/tts\"\n",
        "request = urllib.request.Request(url)\n",
        "request.add_header(\"X-NCP-APIGW-API-KEY-ID\",client_id)\n",
        "request.add_header(\"X-NCP-APIGW-API-KEY\",client_secret)\n",
        "response = urllib.request.urlopen(request, data=data.encode('utf-8'))\n",
        "rescode = response.getcode()\n",
        "if(rescode==200):\n",
        "    print(\"TTS mp3 저장\")\n",
        "    response_body = response.read()\n",
        "    with open('1111.mp3', 'wb') as f:\n",
        "        f.write(response_body)\n",
        "else:\n",
        "    print(\"Error Code:\" + rescode)"
      ],
      "execution_count": 2,
      "outputs": [
        {
          "output_type": "stream",
          "text": [
            "TTS mp3 저장\n"
          ],
          "name": "stdout"
        }
      ]
    },
    {
      "cell_type": "code",
      "metadata": {
        "id": "xYm_bMJnfZYj",
        "colab_type": "code",
        "colab": {}
      },
      "source": [
        "from google.colab import files\n",
        "\n",
        "#with open('example.txt', 'w') as f:\n",
        "#  f.write('some content')\n",
        "\n",
        "files.download('1111.mp3')"
      ],
      "execution_count": 0,
      "outputs": []
    },
    {
      "cell_type": "code",
      "metadata": {
        "id": "hSvuqXWXfckp",
        "colab_type": "code",
        "colab": {}
      },
      "source": [
        ""
      ],
      "execution_count": 0,
      "outputs": []
    }
  ]
}