{
  "nbformat": 4,
  "nbformat_minor": 0,
  "metadata": {
    "colab": {
      "name": "Untitled2.ipynb",
      "version": "0.3.2",
      "provenance": [],
      "include_colab_link": true
    },
    "kernelspec": {
      "name": "python3",
      "display_name": "Python 3"
    }
  },
  "cells": [
    {
      "cell_type": "markdown",
      "metadata": {
        "id": "view-in-github",
        "colab_type": "text"
      },
      "source": [
        "<a href=\"https://colab.research.google.com/github/a-ydobon/python/blob/master/ipynb/Untitled2.ipynb\" target=\"_parent\"><img src=\"https://colab.research.google.com/assets/colab-badge.svg\" alt=\"Open In Colab\"/></a>"
      ]
    },
    {
      "cell_type": "markdown",
      "metadata": {
        "id": "_bDHHaB9QyLK",
        "colab_type": "text"
      },
      "source": [
        "# 파이썬의 문자열(Strings)은 무엇일까요?"
      ]
    },
    {
      "cell_type": "markdown",
      "metadata": {
        "id": "eo-Eeu9pRJKY",
        "colab_type": "text"
      },
      "source": [
        "## 문자열은 '...' 또는 \"...\"와 같이 인용부호로 묶인 데이터입니다."
      ]
    },
    {
      "cell_type": "code",
      "metadata": {
        "id": "7QUmfUHwQxHK",
        "colab_type": "code",
        "colab": {
          "base_uri": "https://localhost:8080/",
          "height": 34
        },
        "outputId": "2d4ce689-e97c-457d-8c3e-6f177de18ef0"
      },
      "source": [
        "'Hello'"
      ],
      "execution_count": 19,
      "outputs": [
        {
          "output_type": "execute_result",
          "data": {
            "text/plain": [
              "'Hello'"
            ]
          },
          "metadata": {
            "tags": []
          },
          "execution_count": 19
        }
      ]
    },
    {
      "cell_type": "code",
      "metadata": {
        "id": "g1Z8DfPXSqg2",
        "colab_type": "code",
        "colab": {
          "base_uri": "https://localhost:8080/",
          "height": 34
        },
        "outputId": "c641c631-db0c-4f4e-f4c3-d75d09ff0230"
      },
      "source": [
        "\"world\""
      ],
      "execution_count": 20,
      "outputs": [
        {
          "output_type": "execute_result",
          "data": {
            "text/plain": [
              "'world'"
            ]
          },
          "metadata": {
            "tags": []
          },
          "execution_count": 20
        }
      ]
    },
    {
      "cell_type": "markdown",
      "metadata": {
        "id": "xniR3oYqWqus",
        "colab_type": "text"
      },
      "source": [
        "### 문자열은 + 을 사용하여 서로 합칠 수 있습니다. * 는 문자열을 반복시킬 수 있습니다."
      ]
    },
    {
      "cell_type": "code",
      "metadata": {
        "id": "rQ4va9RbU5Wh",
        "colab_type": "code",
        "colab": {
          "base_uri": "https://localhost:8080/",
          "height": 34
        },
        "outputId": "bd7dbe9b-2d38-43cf-8ce7-a13e59b3f7da"
      },
      "source": [
        "'Hello' + \"world\""
      ],
      "execution_count": 24,
      "outputs": [
        {
          "output_type": "execute_result",
          "data": {
            "text/plain": [
              "'Helloworld'"
            ]
          },
          "metadata": {
            "tags": []
          },
          "execution_count": 24
        }
      ]
    },
    {
      "cell_type": "code",
      "metadata": {
        "id": "wr3xsZokS-qw",
        "colab_type": "code",
        "colab": {
          "base_uri": "https://localhost:8080/",
          "height": 34
        },
        "outputId": "05524aa7-22a1-4910-809d-035ff0e05760"
      },
      "source": [
        "'Hello' + \"world\" + \"!\" * 10"
      ],
      "execution_count": 26,
      "outputs": [
        {
          "output_type": "execute_result",
          "data": {
            "text/plain": [
              "'Helloworld!!!!!!!!!!'"
            ]
          },
          "metadata": {
            "tags": []
          },
          "execution_count": 26
        }
      ]
    },
    {
      "cell_type": "markdown",
      "metadata": {
        "id": "O8dlOfZ1XSU-",
        "colab_type": "text"
      },
      "source": [
        "#### 문자열에는 인덱싱(indexing)을 사용할 수 있습니다."
      ]
    },
    {
      "cell_type": "code",
      "metadata": {
        "id": "4QMdDv-GY-1Y",
        "colab_type": "code",
        "colab": {}
      },
      "source": [
        "w = 'Python'           # 'Python'이라는 문자열을 만들고, w라는 변수에 저장합니다."
      ],
      "execution_count": 0,
      "outputs": []
    },
    {
      "cell_type": "code",
      "metadata": {
        "id": "6aWNA4i0ZNgk",
        "colab_type": "code",
        "colab": {
          "base_uri": "https://localhost:8080/",
          "height": 34
        },
        "outputId": "98403787-db89-4e9c-806a-d2043abb25cd"
      },
      "source": [
        "w[0]                   # 파이썬의 인덱스는 0부터 시작합니다. 따라서 0번째 위치의 'P'가 나옵니다."
      ],
      "execution_count": 29,
      "outputs": [
        {
          "output_type": "execute_result",
          "data": {
            "text/plain": [
              "'P'"
            ]
          },
          "metadata": {
            "tags": []
          },
          "execution_count": 29
        }
      ]
    },
    {
      "cell_type": "code",
      "metadata": {
        "id": "MWLIxTfoZok2",
        "colab_type": "code",
        "colab": {
          "base_uri": "https://localhost:8080/",
          "height": 34
        },
        "outputId": "87e904f5-dfea-4c41-a0ef-71dc043f5ee2"
      },
      "source": [
        "w[5]                   # 0, 1, 2, ... 이렇게 읽어보면 5번 위치에는 'n'이 있습니다."
      ],
      "execution_count": 30,
      "outputs": [
        {
          "output_type": "execute_result",
          "data": {
            "text/plain": [
              "'n'"
            ]
          },
          "metadata": {
            "tags": []
          },
          "execution_count": 30
        }
      ]
    },
    {
      "cell_type": "markdown",
      "metadata": {
        "id": "xj5Le-GFYIV1",
        "colab_type": "text"
      },
      "source": [
        "##### 마이너스 인덱스도 있습니다. 제일 오른쪽이 -1, 하나 왼쪽이 -2, ... 이런 방식입니다."
      ]
    },
    {
      "cell_type": "code",
      "metadata": {
        "id": "MQyO5jSkaLX-",
        "colab_type": "code",
        "colab": {
          "base_uri": "https://localhost:8080/",
          "height": 34
        },
        "outputId": "19048e93-4bf6-4e96-edaa-dc029b70f3b0"
      },
      "source": [
        "w[-1]"
      ],
      "execution_count": 31,
      "outputs": [
        {
          "output_type": "execute_result",
          "data": {
            "text/plain": [
              "'n'"
            ]
          },
          "metadata": {
            "tags": []
          },
          "execution_count": 31
        }
      ]
    },
    {
      "cell_type": "code",
      "metadata": {
        "id": "J1EkdE3aaN3i",
        "colab_type": "code",
        "colab": {
          "base_uri": "https://localhost:8080/",
          "height": 34
        },
        "outputId": "c95eb760-c4a4-4a11-f508-5b3db00cbb18"
      },
      "source": [
        "w[-2]"
      ],
      "execution_count": 32,
      "outputs": [
        {
          "output_type": "execute_result",
          "data": {
            "text/plain": [
              "'o'"
            ]
          },
          "metadata": {
            "tags": []
          },
          "execution_count": 32
        }
      ]
    },
    {
      "cell_type": "code",
      "metadata": {
        "id": "Y5qH9c20aQk8",
        "colab_type": "code",
        "colab": {}
      },
      "source": [
        ""
      ],
      "execution_count": 0,
      "outputs": []
    }
  ]
}