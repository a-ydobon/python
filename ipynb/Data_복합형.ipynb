{
  "nbformat": 4,
  "nbformat_minor": 0,
  "metadata": {
    "colab": {
      "name": "Data 복합형.ipynb",
      "version": "0.3.2",
      "provenance": [],
      "include_colab_link": true
    },
    "kernelspec": {
      "name": "python3",
      "display_name": "Python 3"
    }
  },
  "cells": [
    {
      "cell_type": "markdown",
      "metadata": {
        "id": "view-in-github",
        "colab_type": "text"
      },
      "source": [
        "<a href=\"https://colab.research.google.com/github/a-ydobon/python/blob/master/ipynb/Data_%EB%B3%B5%ED%95%A9%ED%98%95.ipynb\" target=\"_parent\"><img src=\"https://colab.research.google.com/assets/colab-badge.svg\" alt=\"Open In Colab\"/></a>"
      ]
    },
    {
      "cell_type": "code",
      "metadata": {
        "id": "e02j2qatk7Sv",
        "colab_type": "code",
        "colab": {
          "base_uri": "https://localhost:8080/",
          "height": 34
        },
        "outputId": "03f08be5-711e-48f6-d9db-9335c6729ab1"
      },
      "source": [
        "# In terms of 'Order' in data, and 'Mutability' of the data itself\n",
        "\n",
        "print(\n",
        "    type([1,2,3]),\n",
        "     type((1,2,3)),\n",
        "     type({1,2,3}),\n",
        "     type({1:'r',2:'g',3:'b'})\n",
        "         )"
      ],
      "execution_count": 3,
      "outputs": [
        {
          "output_type": "stream",
          "text": [
            "<class 'list'> <class 'tuple'> <class 'set'> <class 'dict'>\n"
          ],
          "name": "stdout"
        }
      ]
    },
    {
      "cell_type": "code",
      "metadata": {
        "id": "PIjF0kCPW0Fx",
        "colab_type": "code",
        "colab": {
          "base_uri": "https://localhost:8080/",
          "height": 34
        },
        "outputId": "18960396-747c-4688-b8e8-36e8b46b8e45"
      },
      "source": [
        "set([1,2,3])"
      ],
      "execution_count": 5,
      "outputs": [
        {
          "output_type": "execute_result",
          "data": {
            "text/plain": [
              "{1, 2, 3}"
            ]
          },
          "metadata": {
            "tags": []
          },
          "execution_count": 5
        }
      ]
    },
    {
      "cell_type": "code",
      "metadata": {
        "id": "fcXhV9OTW_fd",
        "colab_type": "code",
        "colab": {
          "base_uri": "https://localhost:8080/",
          "height": 34
        },
        "outputId": "549a4b4f-23a5-4d31-c8ab-2de401b077bc"
      },
      "source": [
        "if set([1,2,3]) == set([3,1,2]):\n",
        "  print(\"집합(set) 데이터 타입의 경우, 집합을 이루는 원소 사이에는 순서를 매기지 않는다. 따라서 랜덤으로 배열되곤 한다.\")"
      ],
      "execution_count": 6,
      "outputs": [
        {
          "output_type": "stream",
          "text": [
            "집합(set) 데이터 타입의 경우, 집합을 이루는 원소 사이에는 순서를 매기지 않는다. 따라서 랜덤으로 배열되곤 한다.\n"
          ],
          "name": "stdout"
        }
      ]
    },
    {
      "cell_type": "code",
      "metadata": {
        "id": "pCmC0zpBX958",
        "colab_type": "code",
        "colab": {
          "base_uri": "https://localhost:8080/",
          "height": 51
        },
        "outputId": "ace4d59b-f98f-40d0-e1db-31b50564fbc6"
      },
      "source": [
        "a = [3,4,5]\n",
        "a[0] = 7\n",
        "if a != [3,4,5]:\n",
        "  print(\"바뀐 a: \", a)\n",
        "  print(\"데이터 타입 리스트(list)를 이루는 데이터 구성 요소는 바꾸거나 뺴는 등의 변화를 주는 것이 가능하다.\")"
      ],
      "execution_count": 7,
      "outputs": [
        {
          "output_type": "stream",
          "text": [
            "바뀐 a:  [7, 4, 5]\n",
            "데이터 타입 리스트(list)를 이루는 데이터 구성 요소는 바꾸거나 뺴는 등의 변화를 주는 것이 가능하다.\n"
          ],
          "name": "stdout"
        }
      ]
    },
    {
      "cell_type": "code",
      "metadata": {
        "id": "DlurqYkwYaLR",
        "colab_type": "code",
        "colab": {
          "base_uri": "https://localhost:8080/",
          "height": 34
        },
        "outputId": "2061287b-53bd-4280-a15c-5427085a88e8"
      },
      "source": [
        "b = (1,2,3)\n",
        "if b[0] == 1:\n",
        "  print('데이터 타입 튜플(tuple)은 리스트처럼 인덱스 번호를 통해 튜플 내 원소에 접근할 수 있습니다.')\n"
      ],
      "execution_count": 9,
      "outputs": [
        {
          "output_type": "stream",
          "text": [
            "데이터 타입 튜플(tuple)은 리스트처럼 인덱스 번호를 통해 튜플 내 원소에 접근할 수 있습니다.\n"
          ],
          "name": "stdout"
        }
      ]
    },
    {
      "cell_type": "code",
      "metadata": {
        "id": "8JlHHwwZYxbN",
        "colab_type": "code",
        "colab": {
          "base_uri": "https://localhost:8080/",
          "height": 130
        },
        "outputId": "2cdac9a3-374b-46f3-a53a-3e0271122b5e"
      },
      "source": [
        "if b[0] = 7:\n",
        "  print(\"이건 안 될 겁니다. 튜플이니까요.\")\n",
        "else:\n",
        "  print(\"튜플은 원소의 변화를 사후적으로 줄 수 없습니다. 이 점이 리스트와의 차이점입니다. 이 코드는 에러를 발생시킬겁니다.\")"
      ],
      "execution_count": 10,
      "outputs": [
        {
          "output_type": "error",
          "ename": "SyntaxError",
          "evalue": "ignored",
          "traceback": [
            "\u001b[0;36m  File \u001b[0;32m\"<ipython-input-10-b8518a7fa8e1>\"\u001b[0;36m, line \u001b[0;32m1\u001b[0m\n\u001b[0;31m    if b[0] = 7:\u001b[0m\n\u001b[0m            ^\u001b[0m\n\u001b[0;31mSyntaxError\u001b[0m\u001b[0;31m:\u001b[0m invalid syntax\n"
          ]
        }
      ]
    },
    {
      "cell_type": "code",
      "metadata": {
        "id": "id7-fLFlZFd7",
        "colab_type": "code",
        "colab": {
          "base_uri": "https://localhost:8080/",
          "height": 34
        },
        "outputId": "8ccd556a-ad27-432f-99a5-b8d46e08c527"
      },
      "source": [
        "if [1,2,3] != (1,2,3):\n",
        "  print(\"그래서 데이터를 사후에 변경시켜서는 안 되는 경우 튜플을 자주 쓰지요. 리스트 데이터 타입은 유연하게 변화가 가능한 상황에서 쓰인다고 볼 수 있습니다.\")"
      ],
      "execution_count": 11,
      "outputs": [
        {
          "output_type": "stream",
          "text": [
            "그래서 데이터를 사후에 변경시켜서는 안 되는 경우 튜플을 자주 쓰지요. 리스트 데이터 타입은 유연하게 변화가 가능한 상황에서 쓰인다고 볼 수 있습니다.\n"
          ],
          "name": "stdout"
        }
      ]
    },
    {
      "cell_type": "code",
      "metadata": {
        "id": "wJIqBOhrZU7P",
        "colab_type": "code",
        "colab": {
          "base_uri": "https://localhost:8080/",
          "height": 215
        },
        "outputId": "cc6e72e6-4866-4c51-f6ed-1aa405d43056"
      },
      "source": [
        "c = {1:'a',2:'b',3:'c'}\n",
        "c[0] \n",
        "# 이 코드는 에러를 발생시킵니다.\n",
        "# 딕셔너리 데이터는 \"키:밸류\" 속성을 가지는 원소로 구성돼 있습니다. "
      ],
      "execution_count": 13,
      "outputs": [
        {
          "output_type": "error",
          "ename": "KeyError",
          "evalue": "ignored",
          "traceback": [
            "\u001b[0;31m---------------------------------------------------------------------------\u001b[0m",
            "\u001b[0;31mKeyError\u001b[0m                                  Traceback (most recent call last)",
            "\u001b[0;32m<ipython-input-13-e919dbb379ca>\u001b[0m in \u001b[0;36m<module>\u001b[0;34m()\u001b[0m\n\u001b[1;32m      1\u001b[0m \u001b[0mc\u001b[0m \u001b[0;34m=\u001b[0m \u001b[0;34m{\u001b[0m\u001b[0;36m1\u001b[0m\u001b[0;34m:\u001b[0m\u001b[0;34m'a'\u001b[0m\u001b[0;34m,\u001b[0m\u001b[0;36m2\u001b[0m\u001b[0;34m:\u001b[0m\u001b[0;34m'b'\u001b[0m\u001b[0;34m,\u001b[0m\u001b[0;36m3\u001b[0m\u001b[0;34m:\u001b[0m\u001b[0;34m'c'\u001b[0m\u001b[0;34m}\u001b[0m\u001b[0;34m\u001b[0m\u001b[0;34m\u001b[0m\u001b[0m\n\u001b[0;32m----> 2\u001b[0;31m \u001b[0mc\u001b[0m\u001b[0;34m[\u001b[0m\u001b[0;36m0\u001b[0m\u001b[0;34m]\u001b[0m\u001b[0;34m\u001b[0m\u001b[0;34m\u001b[0m\u001b[0m\n\u001b[0m\u001b[1;32m      3\u001b[0m \u001b[0;31m# 이 코드는 에러를 발생시킵니다.\u001b[0m\u001b[0;34m\u001b[0m\u001b[0;34m\u001b[0m\u001b[0;34m\u001b[0m\u001b[0m\n\u001b[1;32m      4\u001b[0m \u001b[0;31m# 딕셔너리 데이터는 키:밸류 속성을 가지는 원소로 구성돼 있습니다.\u001b[0m\u001b[0;34m\u001b[0m\u001b[0;34m\u001b[0m\u001b[0;34m\u001b[0m\u001b[0m\n",
            "\u001b[0;31mKeyError\u001b[0m: 0"
          ]
        }
      ]
    },
    {
      "cell_type": "code",
      "metadata": {
        "id": "wefTDCUeZlq3",
        "colab_type": "code",
        "colab": {
          "base_uri": "https://localhost:8080/",
          "height": 51
        },
        "outputId": "e82c3961-f623-4407-dc64-209d933df2fc"
      },
      "source": [
        "if c[1] == 'a':\n",
        "  print('딕셔너리에서 특정 밸류를 호출하고 싶다면, 그 밸류와 짝을 이루는 키를 불러줘야 합니다.')\n",
        "  print(\"'a'라는 값을 불러내기 위해 우리는 딕셔너리 c 에서 키 1을 호출했습니다.\")"
      ],
      "execution_count": 15,
      "outputs": [
        {
          "output_type": "stream",
          "text": [
            "딕셔너리에서 특정 밸류를 호출하고 싶다면, 그 밸류와 짝을 이루는 키를 불러줘야 합니다.\n",
            "'a'라는 값을 불러내기 위해 우리는 딕셔너리 c 에서 키 1을 호출했습니다.\n"
          ],
          "name": "stdout"
        }
      ]
    },
    {
      "cell_type": "markdown",
      "metadata": {
        "id": "1Nt2FE6clABq",
        "colab_type": "text"
      },
      "source": [
        "List\n",
        "\n",
        "* 리스트 \\[list]\n",
        "* 튜플 (tuple, )\n",
        "* 셋 {set}\n",
        "* 딕셔너리 {dict: dictionary}\n",
        "\n"
      ]
    }
  ]
}