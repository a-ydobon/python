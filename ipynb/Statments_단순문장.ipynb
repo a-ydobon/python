{
  "nbformat": 4,
  "nbformat_minor": 0,
  "metadata": {
    "colab": {
      "name": "Statments 단순문장.ipynb",
      "version": "0.3.2",
      "provenance": [],
      "include_colab_link": true
    },
    "kernelspec": {
      "name": "python3",
      "display_name": "Python 3"
    }
  },
  "cells": [
    {
      "cell_type": "markdown",
      "metadata": {
        "id": "view-in-github",
        "colab_type": "text"
      },
      "source": [
        "<a href=\"https://colab.research.google.com/github/a-ydobon/python/blob/master/ipynb/Statments_%EB%8B%A8%EC%88%9C%EB%AC%B8%EC%9E%A5.ipynb\" target=\"_parent\"><img src=\"https://colab.research.google.com/assets/colab-badge.svg\" alt=\"Open In Colab\"/></a>"
      ]
    },
    {
      "cell_type": "code",
      "metadata": {
        "id": "r1af4mo0mBfI",
        "colab_type": "code",
        "colab": {}
      },
      "source": [
        ""
      ],
      "execution_count": 0,
      "outputs": []
    },
    {
      "cell_type": "markdown",
      "metadata": {
        "id": "Lxopqju8mE81",
        "colab_type": "text"
      },
      "source": [
        "단순 문장은 한 줄로 된 파이션 문장(statement)를 의미합니다.\n",
        "\n",
        "* 표현식 (expression)\n",
        "* 변수 지정문 (varibable assignment)\n",
        "* import 문\n"
      ]
    }
  ]
}