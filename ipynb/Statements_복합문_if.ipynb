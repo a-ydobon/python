{
  "nbformat": 4,
  "nbformat_minor": 0,
  "metadata": {
    "colab": {
      "name": "Statements 복합문 if.ipynb",
      "version": "0.3.2",
      "provenance": [],
      "include_colab_link": true
    },
    "kernelspec": {
      "name": "python3",
      "display_name": "Python 3"
    }
  },
  "cells": [
    {
      "cell_type": "markdown",
      "metadata": {
        "id": "view-in-github",
        "colab_type": "text"
      },
      "source": [
        "<a href=\"https://colab.research.google.com/github/a-ydobon/python/blob/master/ipynb/Statements_%EB%B3%B5%ED%95%A9%EB%AC%B8_if.ipynb\" target=\"_parent\"><img src=\"https://colab.research.google.com/assets/colab-badge.svg\" alt=\"Open In Colab\"/></a>"
      ]
    },
    {
      "cell_type": "markdown",
      "metadata": {
        "id": "WQr7fyHUmyfV",
        "colab_type": "text"
      },
      "source": [
        "복합문은 두 줄 이상으로 이루어진 문장입니다.\n",
        "\n",
        "이번에는 if 문장에 대하여 살펴보겠습니다."
      ]
    },
    {
      "cell_type": "code",
      "metadata": {
        "id": "512o-M5Umulx",
        "colab_type": "code",
        "outputId": "beb77182-bc5a-432b-db4e-89ddc2fb596f",
        "colab": {
          "base_uri": "https://localhost:8080/",
          "height": 36
        }
      },
      "source": [
        "if 0 < 1:\n",
        "    print('OK')"
      ],
      "execution_count": 1,
      "outputs": [
        {
          "output_type": "stream",
          "text": [
            "OK\n"
          ],
          "name": "stdout"
        }
      ]
    },
    {
      "cell_type": "code",
      "metadata": {
        "id": "7E2OrMBZ8Vc9",
        "colab_type": "code",
        "colab": {}
      },
      "source": [
        "if 0 > 1:\n",
        "    print('OMG!')"
      ],
      "execution_count": 0,
      "outputs": []
    },
    {
      "cell_type": "code",
      "metadata": {
        "id": "Xy1Blqfo_mA6",
        "colab_type": "code",
        "colab": {
          "base_uri": "https://localhost:8080/",
          "height": 36
        },
        "outputId": "e7c0ffc6-348e-4cd0-be39-83b6d160afbc"
      },
      "source": [
        "if 'a' in 'abc':\n",
        "    print('Yes')"
      ],
      "execution_count": 3,
      "outputs": [
        {
          "output_type": "stream",
          "text": [
            "Yes\n"
          ],
          "name": "stdout"
        }
      ]
    },
    {
      "cell_type": "code",
      "metadata": {
        "id": "p4WuacJ1_vsL",
        "colab_type": "code",
        "colab": {
          "base_uri": "https://localhost:8080/",
          "height": 73
        },
        "outputId": "ce49c949-02b2-4f70-e09c-8e2027765c74"
      },
      "source": [
        "print('다음 네모 박스에 정수를 넣고 엔터를 누르세요')\n",
        "a = int(input())\n",
        "\n",
        "if a % 2 == 0:\n",
        "    print('짝수')\n",
        "else:\n",
        "    print('홀수')"
      ],
      "execution_count": 11,
      "outputs": [
        {
          "output_type": "stream",
          "text": [
            "정수를 넣고 엔터를 누르세요\n",
            "5\n",
            "홀수\n"
          ],
          "name": "stdout"
        }
      ]
    },
    {
      "cell_type": "code",
      "metadata": {
        "id": "pnhmrxBi_78R",
        "colab_type": "code",
        "colab": {
          "base_uri": "https://localhost:8080/",
          "height": 73
        },
        "outputId": "ed44c4c5-79dc-460d-8189-88d2e2db1bc3"
      },
      "source": [
        "print('다음 네모 박스에 다섯 글자 이상 또는 미만 또는 그냥 엔터를 누르세요')\n",
        "b = str(input())\n",
        "\n",
        "if len(b) >= 5:\n",
        "    print('long')\n",
        "elif len(b) > 0:\n",
        "    print('short')\n",
        "else:\n",
        "    print('nothing')"
      ],
      "execution_count": 19,
      "outputs": [
        {
          "output_type": "stream",
          "text": [
            "다음 네모 박스에 다섯 글자 이상 또는 미만 또는 그냥 엔터를 누르세요\n",
            "'[;ㅣㅏㅐ\n",
            "long\n"
          ],
          "name": "stdout"
        }
      ]
    },
    {
      "cell_type": "code",
      "metadata": {
        "id": "V3o6iUJ8BbvU",
        "colab_type": "code",
        "colab": {}
      },
      "source": [
        "\n"
      ],
      "execution_count": 0,
      "outputs": []
    }
  ]
}