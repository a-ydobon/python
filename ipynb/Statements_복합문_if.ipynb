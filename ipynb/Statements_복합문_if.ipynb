{
  "nbformat": 4,
  "nbformat_minor": 0,
  "metadata": {
    "colab": {
      "name": "Statements 복합문 if.ipynb",
      "version": "0.3.2",
      "provenance": [],
      "include_colab_link": true
    },
    "kernelspec": {
      "name": "python3",
      "display_name": "Python 3"
    }
  },
  "cells": [
    {
      "cell_type": "markdown",
      "metadata": {
        "id": "view-in-github",
        "colab_type": "text"
      },
      "source": [
        "<a href=\"https://colab.research.google.com/github/a-ydobon/python/blob/master/ipynb/Statements_%EB%B3%B5%ED%95%A9%EB%AC%B8_if.ipynb\" target=\"_parent\"><img src=\"https://colab.research.google.com/assets/colab-badge.svg\" alt=\"Open In Colab\"/></a>"
      ]
    },
    {
      "cell_type": "markdown",
      "metadata": {
        "id": "WQr7fyHUmyfV",
        "colab_type": "text"
      },
      "source": [
        "복합문은 두 줄 이상으로 이루어진 문장입니다.\n",
        "\n",
        "이번에는 if 문장에 대하여 살펴보겠습니다."
      ]
    },
    {
      "cell_type": "code",
      "metadata": {
        "id": "512o-M5Umulx",
        "colab_type": "code",
        "colab": {
          "base_uri": "https://localhost:8080/",
          "height": 36
        },
        "outputId": "0917fd7a-af11-49a6-a5e8-9def5216d727"
      },
      "source": [
        "if 0 < 1:\n",
        "    print('OK')"
      ],
      "execution_count": 1,
      "outputs": [
        {
          "output_type": "stream",
          "text": [
            "OK\n"
          ],
          "name": "stdout"
        }
      ]
    }
  ]
}