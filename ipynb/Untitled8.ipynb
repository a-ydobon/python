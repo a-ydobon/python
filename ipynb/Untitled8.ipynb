{
  "nbformat": 4,
  "nbformat_minor": 0,
  "metadata": {
    "colab": {
      "name": "Untitled8.ipynb",
      "version": "0.3.2",
      "provenance": [],
      "include_colab_link": true
    },
    "kernelspec": {
      "name": "python3",
      "display_name": "Python 3"
    }
  },
  "cells": [
    {
      "cell_type": "markdown",
      "metadata": {
        "id": "view-in-github",
        "colab_type": "text"
      },
      "source": [
        "<a href=\"https://colab.research.google.com/github/a-ydobon/python/blob/master/ipynb/Untitled8.ipynb\" target=\"_parent\"><img src=\"https://colab.research.google.com/assets/colab-badge.svg\" alt=\"Open In Colab\"/></a>"
      ]
    },
    {
      "cell_type": "code",
      "metadata": {
        "id": "zwWy7S_zs81H",
        "colab_type": "code",
        "outputId": "246c4d0c-d50e-49df-aef9-fb940faa92be",
        "colab": {
          "base_uri": "https://localhost:8080/",
          "height": 147
        }
      },
      "source": [
        "for i in [1, 1, 2, 3, 5, 8, 13]:\n",
        "  print(i)"
      ],
      "execution_count": 0,
      "outputs": [
        {
          "output_type": "stream",
          "text": [
            "1\n",
            "1\n",
            "2\n",
            "3\n",
            "5\n",
            "8\n",
            "13\n"
          ],
          "name": "stdout"
        }
      ]
    },
    {
      "cell_type": "code",
      "metadata": {
        "id": "PnE4soqMuV8D",
        "colab_type": "code",
        "outputId": "db48a8ae-1f6a-498a-a140-154b12fbe931",
        "colab": {
          "base_uri": "https://localhost:8080/",
          "height": 203
        }
      },
      "source": [
        "for i in range(10):\n",
        "  print(i)"
      ],
      "execution_count": 0,
      "outputs": [
        {
          "output_type": "stream",
          "text": [
            "0\n",
            "1\n",
            "2\n",
            "3\n",
            "4\n",
            "5\n",
            "6\n",
            "7\n",
            "8\n",
            "9\n"
          ],
          "name": "stdout"
        }
      ]
    },
    {
      "cell_type": "code",
      "metadata": {
        "id": "IODlZTPzutMD",
        "colab_type": "code",
        "outputId": "c8a9d13f-1067-4bf6-9625-8789d22b8c04",
        "colab": {
          "base_uri": "https://localhost:8080/",
          "height": 203
        }
      },
      "source": [
        "sum = 0\n",
        "\n",
        "for i in range(10):\n",
        "  sum += i\n",
        "  print(sum)"
      ],
      "execution_count": 0,
      "outputs": [
        {
          "output_type": "stream",
          "text": [
            "0\n",
            "1\n",
            "3\n",
            "6\n",
            "10\n",
            "15\n",
            "21\n",
            "28\n",
            "36\n",
            "45\n"
          ],
          "name": "stdout"
        }
      ]
    },
    {
      "cell_type": "code",
      "metadata": {
        "id": "G1-iAJ4_u20e",
        "colab_type": "code",
        "outputId": "bbacd62c-11f3-45fa-eb47-6838bf5e5851",
        "colab": {
          "base_uri": "https://localhost:8080/",
          "height": 203
        }
      },
      "source": [
        "sum = 0\n",
        "\n",
        "for i in range(1,11):\n",
        "  sum += i\n",
        "  print(sum)"
      ],
      "execution_count": 0,
      "outputs": [
        {
          "output_type": "stream",
          "text": [
            "1\n",
            "3\n",
            "6\n",
            "10\n",
            "15\n",
            "21\n",
            "28\n",
            "36\n",
            "45\n",
            "55\n"
          ],
          "name": "stdout"
        }
      ]
    },
    {
      "cell_type": "code",
      "metadata": {
        "id": "FV-m2gQwvIZP",
        "colab_type": "code",
        "outputId": "defd97e6-efa3-44c8-bbd3-cf8212cc3a23",
        "colab": {
          "base_uri": "https://localhost:8080/",
          "height": 110
        }
      },
      "source": [
        "a_list = ['Hello', 'world', 'Hi', 'there', '!']\n",
        "\n",
        "for i in a_list:\n",
        "  print(i)"
      ],
      "execution_count": 0,
      "outputs": [
        {
          "output_type": "stream",
          "text": [
            "Hello\n",
            "world\n",
            "Hi\n",
            "there\n",
            "!\n"
          ],
          "name": "stdout"
        }
      ]
    },
    {
      "cell_type": "code",
      "metadata": {
        "id": "W_Yuqk3hvf3S",
        "colab_type": "code",
        "outputId": "7b3f539b-5671-4c6d-a9e5-2e80117f5c7f",
        "colab": {
          "base_uri": "https://localhost:8080/",
          "height": 110
        }
      },
      "source": [
        "a_list = ['Hello', 'world', 'Hi', 'there', '!']\n",
        "\n",
        "for i in a_list:\n",
        "  print(i, len(i))"
      ],
      "execution_count": 0,
      "outputs": [
        {
          "output_type": "stream",
          "text": [
            "Hello 5\n",
            "world 5\n",
            "Hi 2\n",
            "there 5\n",
            "! 1\n"
          ],
          "name": "stdout"
        }
      ]
    },
    {
      "cell_type": "code",
      "metadata": {
        "id": "ygAfBqk-vm4E",
        "colab_type": "code",
        "outputId": "852c7aed-fbcf-49c7-987d-94a737d09a43",
        "colab": {
          "base_uri": "https://localhost:8080/",
          "height": 110
        }
      },
      "source": [
        "for i, j in enumerate(a_list):\n",
        "  print(i, j)"
      ],
      "execution_count": 0,
      "outputs": [
        {
          "output_type": "stream",
          "text": [
            "0 Hello\n",
            "1 world\n",
            "2 Hi\n",
            "3 there\n",
            "4 !\n"
          ],
          "name": "stdout"
        }
      ]
    },
    {
      "cell_type": "code",
      "metadata": {
        "id": "IZu8Urnjv7jx",
        "colab_type": "code",
        "outputId": "f53e16ff-7959-49ef-aaa7-cbd1b1afd1ac",
        "colab": {
          "base_uri": "https://localhost:8080/",
          "height": 73
        }
      },
      "source": [
        "b_dict = {1: 'rat', 'a':'tiger', 2:'cow'}\n",
        "\n",
        "for i in b_dict:\n",
        "  print(i)"
      ],
      "execution_count": 0,
      "outputs": [
        {
          "output_type": "stream",
          "text": [
            "1\n",
            "a\n",
            "2\n"
          ],
          "name": "stdout"
        }
      ]
    },
    {
      "cell_type": "code",
      "metadata": {
        "id": "JlUU6FUuwg62",
        "colab_type": "code",
        "outputId": "4b1ad767-f9ef-4f43-cc70-afe58717200c",
        "colab": {
          "base_uri": "https://localhost:8080/",
          "height": 73
        }
      },
      "source": [
        "for i in b_dict.items():\n",
        "  print(i)"
      ],
      "execution_count": 0,
      "outputs": [
        {
          "output_type": "stream",
          "text": [
            "(1, 'rat')\n",
            "('a', 'tiger')\n",
            "(2, 'cow')\n"
          ],
          "name": "stdout"
        }
      ]
    },
    {
      "cell_type": "code",
      "metadata": {
        "id": "tWwnPC3_wuD-",
        "colab_type": "code",
        "outputId": "cec64b83-005f-4290-f628-18797eb8aa0e",
        "colab": {
          "base_uri": "https://localhost:8080/",
          "height": 73
        }
      },
      "source": [
        "for i, j in b_dict.items():\n",
        "  print(i, j)"
      ],
      "execution_count": 0,
      "outputs": [
        {
          "output_type": "stream",
          "text": [
            "1 rat\n",
            "a tiger\n",
            "2 cow\n"
          ],
          "name": "stdout"
        }
      ]
    },
    {
      "cell_type": "code",
      "metadata": {
        "id": "CWRzMAISw0wr",
        "colab_type": "code",
        "outputId": "2eb1b5b7-2dfa-4b46-e754-4a8012bd3f93",
        "colab": {
          "base_uri": "https://localhost:8080/",
          "height": 388
        }
      },
      "source": [
        "for i in range(5):\n",
        "  for j in range(4):\n",
        "    print(i, j)"
      ],
      "execution_count": 0,
      "outputs": [
        {
          "output_type": "stream",
          "text": [
            "0 0\n",
            "0 1\n",
            "0 2\n",
            "0 3\n",
            "1 0\n",
            "1 1\n",
            "1 2\n",
            "1 3\n",
            "2 0\n",
            "2 1\n",
            "2 2\n",
            "2 3\n",
            "3 0\n",
            "3 1\n",
            "3 2\n",
            "3 3\n",
            "4 0\n",
            "4 1\n",
            "4 2\n",
            "4 3\n"
          ],
          "name": "stdout"
        }
      ]
    },
    {
      "cell_type": "code",
      "metadata": {
        "id": "SAJ02OE8xVLt",
        "colab_type": "code",
        "outputId": "0d278189-dc97-459f-de2d-73df2716860e",
        "colab": {
          "base_uri": "https://localhost:8080/",
          "height": 110
        }
      },
      "source": [
        "for i in range(5):\n",
        "  for j in range(4):\n",
        "    print(i, j, end = ', ')\n",
        "  print('')"
      ],
      "execution_count": 0,
      "outputs": [
        {
          "output_type": "stream",
          "text": [
            "0 0, 0 1, 0 2, 0 3, \n",
            "1 0, 1 1, 1 2, 1 3, \n",
            "2 0, 2 1, 2 2, 2 3, \n",
            "3 0, 3 1, 3 2, 3 3, \n",
            "4 0, 4 1, 4 2, 4 3, \n"
          ],
          "name": "stdout"
        }
      ]
    },
    {
      "cell_type": "code",
      "metadata": {
        "id": "ZxtI4Pwrxi_g",
        "colab_type": "code",
        "outputId": "16b05437-c40e-4ab9-fa8d-53fe0133b7c6",
        "colab": {
          "base_uri": "https://localhost:8080/",
          "height": 110
        }
      },
      "source": [
        "for i in range(5):\n",
        "  for j in range(i):\n",
        "    print(i, j, end = ', ')\n",
        "  print('')"
      ],
      "execution_count": 0,
      "outputs": [
        {
          "output_type": "stream",
          "text": [
            "\n",
            "1 0, \n",
            "2 0, 2 1, \n",
            "3 0, 3 1, 3 2, \n",
            "4 0, 4 1, 4 2, 4 3, \n"
          ],
          "name": "stdout"
        }
      ]
    },
    {
      "cell_type": "code",
      "metadata": {
        "id": "GbJCB9SFx8sO",
        "colab_type": "code",
        "colab": {}
      },
      "source": [
        ""
      ],
      "execution_count": 0,
      "outputs": []
    }
  ]
}