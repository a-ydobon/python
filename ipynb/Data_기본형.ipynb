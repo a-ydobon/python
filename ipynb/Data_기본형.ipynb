{
  "nbformat": 4,
  "nbformat_minor": 0,
  "metadata": {
    "colab": {
      "name": "Data 기본형.ipynb",
      "version": "0.3.2",
      "provenance": [],
      "include_colab_link": true
    },
    "kernelspec": {
      "name": "python3",
      "display_name": "Python 3"
    }
  },
  "cells": [
    {
      "cell_type": "markdown",
      "metadata": {
        "id": "view-in-github",
        "colab_type": "text"
      },
      "source": [
        "<a href=\"https://colab.research.google.com/github/a-ydobon/python/blob/master/ipynb/Data_%EA%B8%B0%EB%B3%B8%ED%98%95.ipynb\" target=\"_parent\"><img src=\"https://colab.research.google.com/assets/colab-badge.svg\" alt=\"Open In Colab\"/></a>"
      ]
    },
    {
      "cell_type": "code",
      "metadata": {
        "id": "fQK-14RCkK7Z",
        "colab_type": "code",
        "colab": {
          "base_uri": "https://localhost:8080/",
          "height": 34
        },
        "outputId": "36fdac3b-6292-4e5f-c961-709abc55a4d5"
      },
      "source": [
        "# Different types in data\n",
        "print(type(1) \n",
        ",type(2.3)\n",
        ",type(True)\n",
        ",type(False)\n",
        "     ,type(\"Hello world!\"))"
      ],
      "execution_count": 5,
      "outputs": [
        {
          "output_type": "stream",
          "text": [
            "<class 'int'> <class 'float'> <class 'bool'> <class 'bool'> <class 'str'>\n"
          ],
          "name": "stdout"
        }
      ]
    },
    {
      "cell_type": "code",
      "metadata": {
        "id": "78QAbDNFT2zq",
        "colab_type": "code",
        "colab": {
          "base_uri": "https://localhost:8080/",
          "height": 34
        },
        "outputId": "0965e49f-26ff-458c-c7fa-9c22cb7b2a3e"
      },
      "source": [
        "if 0 == False:\n",
        "  print(\"Boolean False can be replaced with integer zero.\")"
      ],
      "execution_count": 3,
      "outputs": [
        {
          "output_type": "stream",
          "text": [
            "Boolean False can be replaced with integer zero.\n"
          ],
          "name": "stdout"
        }
      ]
    },
    {
      "cell_type": "code",
      "metadata": {
        "id": "H1EtwZo9T_Pj",
        "colab_type": "code",
        "colab": {
          "base_uri": "https://localhost:8080/",
          "height": 34
        },
        "outputId": "754b81a4-e93f-4e63-996f-44268d73cb26"
      },
      "source": [
        "if 0 != True:\n",
        "  print(\"Boolean True can be replaced with any integer other than zero.\")"
      ],
      "execution_count": 4,
      "outputs": [
        {
          "output_type": "stream",
          "text": [
            "Boolean True can be replaced with any integer other than zero.\n"
          ],
          "name": "stdout"
        }
      ]
    },
    {
      "cell_type": "code",
      "metadata": {
        "id": "fkYoEFz8UmZz",
        "colab_type": "code",
        "colab": {
          "base_uri": "https://localhost:8080/",
          "height": 34
        },
        "outputId": "812cff66-689b-4b2b-d72a-f8b48d9261c4"
      },
      "source": [
        "if \"Hello\" == 'Hello':\n",
        "  print(\"Double quotes sign, and single quote sign both can be used to define String values.\")"
      ],
      "execution_count": 6,
      "outputs": [
        {
          "output_type": "stream",
          "text": [
            "Double quotes sign, and single quote sign both can be used to define String values.\n"
          ],
          "name": "stdout"
        }
      ]
    },
    {
      "cell_type": "code",
      "metadata": {
        "id": "VPXiRiuyU58Q",
        "colab_type": "code",
        "colab": {
          "base_uri": "https://localhost:8080/",
          "height": 34
        },
        "outputId": "3359d7af-8bc1-46c5-a8e8-696ad361ee18"
      },
      "source": [
        "\"Hello\"[1]"
      ],
      "execution_count": 7,
      "outputs": [
        {
          "output_type": "execute_result",
          "data": {
            "text/plain": [
              "'e'"
            ]
          },
          "metadata": {
            "tags": []
          },
          "execution_count": 7
        }
      ]
    },
    {
      "cell_type": "code",
      "metadata": {
        "id": "TLVPiCI1U-m3",
        "colab_type": "code",
        "colab": {
          "base_uri": "https://localhost:8080/",
          "height": 34
        },
        "outputId": "af043cc4-52fe-4243-f633-cc559f5f075f"
      },
      "source": [
        "if 'Hello'[-1] == 'o':\n",
        "  print(\"We will learn soon, but data type String is also can be categorized into data type List.\")"
      ],
      "execution_count": 8,
      "outputs": [
        {
          "output_type": "stream",
          "text": [
            "We will learn soon, but data type String is also can be categorized into data type List.\n"
          ],
          "name": "stdout"
        }
      ]
    },
    {
      "cell_type": "markdown",
      "metadata": {
        "id": "B7HvilZCkRLP",
        "colab_type": "text"
      },
      "source": [
        "Data는 "
      ]
    }
  ]
}