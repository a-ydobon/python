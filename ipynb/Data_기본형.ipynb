{
  "nbformat": 4,
  "nbformat_minor": 0,
  "metadata": {
    "colab": {
      "name": "Data 기본형.ipynb",
      "version": "0.3.2",
      "provenance": [],
      "include_colab_link": true
    },
    "kernelspec": {
      "name": "python3",
      "display_name": "Python 3"
    }
  },
  "cells": [
    {
      "cell_type": "markdown",
      "metadata": {
        "id": "view-in-github",
        "colab_type": "text"
      },
      "source": [
        "<a href=\"https://colab.research.google.com/github/a-ydobon/python/blob/master/ipynb/Data_%EA%B8%B0%EB%B3%B8%ED%98%95.ipynb\" target=\"_parent\"><img src=\"https://colab.research.google.com/assets/colab-badge.svg\" alt=\"Open In Colab\"/></a>"
      ]
    },
    {
      "cell_type": "markdown",
      "metadata": {
        "id": "7LK5i4ER6fW4",
        "colab_type": "text"
      },
      "source": [
        "# 파이썬의 기본형 데이터는 숫자형과 문자형입니다."
      ]
    },
    {
      "cell_type": "markdown",
      "metadata": {
        "id": "xpRsuTjO7ECM",
        "colab_type": "text"
      },
      "source": [
        "## 숫자형은 말 그대로 숫자입니다. 다음의 셀은 실행시키는 방법은 shift + enter 또는 셀 왼쪽에 있는 play 버튼입니다."
      ]
    },
    {
      "cell_type": "code",
      "metadata": {
        "id": "fQK-14RCkK7Z",
        "colab_type": "code",
        "outputId": "8bc7705f-4ca1-4156-e827-9f3fecbd2acb",
        "colab": {
          "base_uri": "https://localhost:8080/",
          "height": 34
        }
      },
      "source": [
        "99         # 99도 숫자이고."
      ],
      "execution_count": 2,
      "outputs": [
        {
          "output_type": "execute_result",
          "data": {
            "text/plain": [
              "99"
            ]
          },
          "metadata": {
            "tags": []
          },
          "execution_count": 2
        }
      ]
    },
    {
      "cell_type": "code",
      "metadata": {
        "id": "78QAbDNFT2zq",
        "colab_type": "code",
        "outputId": "5644439b-7838-40de-b185-5ec26f24a1a0",
        "colab": {
          "base_uri": "https://localhost:8080/",
          "height": 34
        }
      },
      "source": [
        "3.1415     # 3.1415도 숫자입니다."
      ],
      "execution_count": 3,
      "outputs": [
        {
          "output_type": "execute_result",
          "data": {
            "text/plain": [
              "3.1415"
            ]
          },
          "metadata": {
            "tags": []
          },
          "execution_count": 3
        }
      ]
    },
    {
      "cell_type": "markdown",
      "metadata": {
        "id": "6b9UXZpC7gks",
        "colab_type": "text"
      },
      "source": [
        "## 그런데 두 가지의 숫자의 하나도 int형이고, 다른 하나는 float형입니다.\n",
        "## 소수점이 있는 숫자"
      ]
    },
    {
      "cell_type": "code",
      "metadata": {
        "id": "H1EtwZo9T_Pj",
        "colab_type": "code",
        "outputId": "754b81a4-e93f-4e63-996f-44268d73cb26",
        "colab": {
          "base_uri": "https://localhost:8080/",
          "height": 34
        }
      },
      "source": [
        "if 0 != True:\n",
        "  print(\"Boolean True can be replaced with any integer other than zero.\")"
      ],
      "execution_count": 0,
      "outputs": [
        {
          "output_type": "stream",
          "text": [
            "Boolean True can be replaced with any integer other than zero.\n"
          ],
          "name": "stdout"
        }
      ]
    },
    {
      "cell_type": "code",
      "metadata": {
        "id": "fkYoEFz8UmZz",
        "colab_type": "code",
        "outputId": "812cff66-689b-4b2b-d72a-f8b48d9261c4",
        "colab": {
          "base_uri": "https://localhost:8080/",
          "height": 34
        }
      },
      "source": [
        "if \"Hello\" == 'Hello':\n",
        "  print(\"Double quotes sign, and single quote sign both can be used to define String values.\")"
      ],
      "execution_count": 0,
      "outputs": [
        {
          "output_type": "stream",
          "text": [
            "Double quotes sign, and single quote sign both can be used to define String values.\n"
          ],
          "name": "stdout"
        }
      ]
    },
    {
      "cell_type": "code",
      "metadata": {
        "id": "VPXiRiuyU58Q",
        "colab_type": "code",
        "outputId": "3359d7af-8bc1-46c5-a8e8-696ad361ee18",
        "colab": {
          "base_uri": "https://localhost:8080/",
          "height": 34
        }
      },
      "source": [
        "\"Hello\"[1]"
      ],
      "execution_count": 0,
      "outputs": [
        {
          "output_type": "execute_result",
          "data": {
            "text/plain": [
              "'e'"
            ]
          },
          "metadata": {
            "tags": []
          },
          "execution_count": 7
        }
      ]
    },
    {
      "cell_type": "code",
      "metadata": {
        "id": "TLVPiCI1U-m3",
        "colab_type": "code",
        "outputId": "af043cc4-52fe-4243-f633-cc559f5f075f",
        "colab": {
          "base_uri": "https://localhost:8080/",
          "height": 34
        }
      },
      "source": [
        "if 'Hello'[-1] == 'o':\n",
        "  print(\"We will learn soon, but data type String is also can be categorized into data type List.\")"
      ],
      "execution_count": 0,
      "outputs": [
        {
          "output_type": "stream",
          "text": [
            "We will learn soon, but data type String is also can be categorized into data type List.\n"
          ],
          "name": "stdout"
        }
      ]
    },
    {
      "cell_type": "markdown",
      "metadata": {
        "id": "B7HvilZCkRLP",
        "colab_type": "text"
      },
      "source": [
        "Data는 "
      ]
    }
  ]
}