{
  "nbformat": 4,
  "nbformat_minor": 0,
  "metadata": {
    "colab": {
      "name": "Data 기본형.ipynb",
      "version": "0.3.2",
      "provenance": [],
      "include_colab_link": true
    },
    "kernelspec": {
      "name": "python3",
      "display_name": "Python 3"
    }
  },
  "cells": [
    {
      "cell_type": "markdown",
      "metadata": {
        "id": "view-in-github",
        "colab_type": "text"
      },
      "source": [
        "<a href=\"https://colab.research.google.com/github/a-ydobon/python/blob/master/ipynb/Data_%EA%B8%B0%EB%B3%B8%ED%98%95.ipynb\" target=\"_parent\"><img src=\"https://colab.research.google.com/assets/colab-badge.svg\" alt=\"Open In Colab\"/></a>"
      ]
    },
    {
      "cell_type": "markdown",
      "metadata": {
        "id": "WF9-437FFRLC",
        "colab_type": "text"
      },
      "source": [
        "# Colab의 셀을 실행시키는 방법은 shift + enter 입니다.\n",
        "# 처음 실행할 때 약간의 시간이 걸립니다."
      ]
    },
    {
      "cell_type": "code",
      "metadata": {
        "id": "f3wfoMI8F6PK",
        "colab_type": "code",
        "colab": {}
      },
      "source": [
        "# 셀 왼쪽의 플레이 버튼을 눌러도 됩니다."
      ],
      "execution_count": 0,
      "outputs": []
    },
    {
      "cell_type": "markdown",
      "metadata": {
        "id": "7LK5i4ER6fW4",
        "colab_type": "text"
      },
      "source": [
        "# 파이썬의 기본형 데이터는 숫자형과 문자형으로 나눌 수 있습니다.\n",
        "\n",
        "\n",
        "\n"
      ]
    },
    {
      "cell_type": "markdown",
      "metadata": {
        "id": "xpRsuTjO7ECM",
        "colab_type": "text"
      },
      "source": [
        "## 숫자형은 말 그대로 숫자입니다."
      ]
    },
    {
      "cell_type": "code",
      "metadata": {
        "id": "fQK-14RCkK7Z",
        "colab_type": "code",
        "outputId": "9a2b88ad-db93-4709-9d82-a1fee1d3c935",
        "colab": {
          "base_uri": "https://localhost:8080/",
          "height": 34
        }
      },
      "source": [
        "99         # 99도 숫자이고."
      ],
      "execution_count": 6,
      "outputs": [
        {
          "output_type": "execute_result",
          "data": {
            "text/plain": [
              "99"
            ]
          },
          "metadata": {
            "tags": []
          },
          "execution_count": 6
        }
      ]
    },
    {
      "cell_type": "code",
      "metadata": {
        "id": "78QAbDNFT2zq",
        "colab_type": "code",
        "outputId": "70cacabc-34d7-4319-86d6-d0deac1c0dd0",
        "colab": {
          "base_uri": "https://localhost:8080/",
          "height": 34
        }
      },
      "source": [
        "3.1415     # 3.1415도 숫자입니다."
      ],
      "execution_count": 7,
      "outputs": [
        {
          "output_type": "execute_result",
          "data": {
            "text/plain": [
              "3.1415"
            ]
          },
          "metadata": {
            "tags": []
          },
          "execution_count": 7
        }
      ]
    },
    {
      "cell_type": "markdown",
      "metadata": {
        "id": "6b9UXZpC7gks",
        "colab_type": "text"
      },
      "source": [
        "## 그런데, 컴퓨터는 숫자를 두가지로 구분합니다. \n",
        "\n",
        "\n",
        "*   int: 소수점이 없는 숫자\n",
        "*   float: 소수점이 없는 숫자\n",
        "\n"
      ]
    },
    {
      "cell_type": "code",
      "metadata": {
        "id": "H1EtwZo9T_Pj",
        "colab_type": "code",
        "outputId": "cfb95354-ac9d-49f1-dfb6-7e6f138ad9b1",
        "colab": {
          "base_uri": "https://localhost:8080/",
          "height": 34
        }
      },
      "source": [
        "2 + 3        # 더하기"
      ],
      "execution_count": 11,
      "outputs": [
        {
          "output_type": "execute_result",
          "data": {
            "text/plain": [
              "5"
            ]
          },
          "metadata": {
            "tags": []
          },
          "execution_count": 11
        }
      ]
    },
    {
      "cell_type": "code",
      "metadata": {
        "id": "TIPclYHTImOa",
        "colab_type": "code",
        "colab": {
          "base_uri": "https://localhost:8080/",
          "height": 34
        },
        "outputId": "c40abd93-30a7-4200-a421-6d946584644b"
      },
      "source": [
        "3 - 2        # 빼기"
      ],
      "execution_count": 12,
      "outputs": [
        {
          "output_type": "execute_result",
          "data": {
            "text/plain": [
              "1"
            ]
          },
          "metadata": {
            "tags": []
          },
          "execution_count": 12
        }
      ]
    },
    {
      "cell_type": "code",
      "metadata": {
        "id": "9HMfgqToIqlo",
        "colab_type": "code",
        "colab": {
          "base_uri": "https://localhost:8080/",
          "height": 34
        },
        "outputId": "90991497-8ec2-4213-a3c6-f622a2118c28"
      },
      "source": [
        "2 * 3        # 곱하기. 곱합기 기호는 8번 위에 있는 * 입니다."
      ],
      "execution_count": 13,
      "outputs": [
        {
          "output_type": "execute_result",
          "data": {
            "text/plain": [
              "6"
            ]
          },
          "metadata": {
            "tags": []
          },
          "execution_count": 13
        }
      ]
    },
    {
      "cell_type": "code",
      "metadata": {
        "id": "46RKk4nQItvR",
        "colab_type": "code",
        "colab": {
          "base_uri": "https://localhost:8080/",
          "height": 34
        },
        "outputId": "dc4834f3-e5e5-468f-b480-44edb6944b57"
      },
      "source": [
        "3 / 2        # 나누기. 나누기 기호는 / 입니다."
      ],
      "execution_count": 14,
      "outputs": [
        {
          "output_type": "execute_result",
          "data": {
            "text/plain": [
              "1.5"
            ]
          },
          "metadata": {
            "tags": []
          },
          "execution_count": 14
        }
      ]
    },
    {
      "cell_type": "markdown",
      "metadata": {
        "id": "_VMMfplaIvt6",
        "colab_type": "text"
      },
      "source": [
        "## 위의 네 개의 셀의 아웃풋 중 하나가 다른 세개와 다른 데이터 타입을 가지고 있습니다. "
      ]
    },
    {
      "cell_type": "code",
      "metadata": {
        "id": "nWhKkxL3JPRo",
        "colab_type": "code",
        "colab": {
          "base_uri": "https://localhost:8080/",
          "height": 34
        },
        "outputId": "42983389-347e-45a2-ed5b-2d7e606f1e5f"
      },
      "source": [
        "2.0 + 3        # 더하기"
      ],
      "execution_count": 15,
      "outputs": [
        {
          "output_type": "execute_result",
          "data": {
            "text/plain": [
              "5.0"
            ]
          },
          "metadata": {
            "tags": []
          },
          "execution_count": 15
        }
      ]
    },
    {
      "cell_type": "code",
      "metadata": {
        "id": "R5NS1SfkJZKo",
        "colab_type": "code",
        "colab": {
          "base_uri": "https://localhost:8080/",
          "height": 34
        },
        "outputId": "57609b06-f2ce-4d55-b299-a67840c042bf"
      },
      "source": [
        "3.0 - 2        # 빼기"
      ],
      "execution_count": 16,
      "outputs": [
        {
          "output_type": "execute_result",
          "data": {
            "text/plain": [
              "1.0"
            ]
          },
          "metadata": {
            "tags": []
          },
          "execution_count": 16
        }
      ]
    },
    {
      "cell_type": "code",
      "metadata": {
        "id": "FvMW_moZJfTk",
        "colab_type": "code",
        "colab": {
          "base_uri": "https://localhost:8080/",
          "height": 34
        },
        "outputId": "c654aaa9-9698-4c29-ce2e-f85b77a4f543"
      },
      "source": [
        "2.0 * 3.0        # 곱하기"
      ],
      "execution_count": 17,
      "outputs": [
        {
          "output_type": "execute_result",
          "data": {
            "text/plain": [
              "6.0"
            ]
          },
          "metadata": {
            "tags": []
          },
          "execution_count": 17
        }
      ]
    },
    {
      "cell_type": "code",
      "metadata": {
        "id": "9tWB9xeVJlZj",
        "colab_type": "code",
        "colab": {
          "base_uri": "https://localhost:8080/",
          "height": 34
        },
        "outputId": "67465a06-4a27-4f9e-dff6-96da1f79cf13"
      },
      "source": [
        "4 / 2            # 나누기"
      ],
      "execution_count": 18,
      "outputs": [
        {
          "output_type": "execute_result",
          "data": {
            "text/plain": [
              "2.0"
            ]
          },
          "metadata": {
            "tags": []
          },
          "execution_count": 18
        }
      ]
    },
    {
      "cell_type": "markdown",
      "metadata": {
        "id": "zblctjoZJwDw",
        "colab_type": "text"
      },
      "source": [
        "## 어떤 규칙이 숨어있을까요?"
      ]
    },
    {
      "cell_type": "code",
      "metadata": {
        "id": "fkYoEFz8UmZz",
        "colab_type": "code",
        "outputId": "812cff66-689b-4b2b-d72a-f8b48d9261c4",
        "colab": {
          "base_uri": "https://localhost:8080/",
          "height": 34
        }
      },
      "source": [
        "if \"Hello\" == 'Hello':\n",
        "  print(\"Double quotes sign, and single quote sign both can be used to define String values.\")"
      ],
      "execution_count": 0,
      "outputs": [
        {
          "output_type": "stream",
          "text": [
            "Double quotes sign, and single quote sign both can be used to define String values.\n"
          ],
          "name": "stdout"
        }
      ]
    },
    {
      "cell_type": "code",
      "metadata": {
        "id": "VPXiRiuyU58Q",
        "colab_type": "code",
        "outputId": "3359d7af-8bc1-46c5-a8e8-696ad361ee18",
        "colab": {
          "base_uri": "https://localhost:8080/",
          "height": 34
        }
      },
      "source": [
        "\"Hello\"[1]"
      ],
      "execution_count": 0,
      "outputs": [
        {
          "output_type": "execute_result",
          "data": {
            "text/plain": [
              "'e'"
            ]
          },
          "metadata": {
            "tags": []
          },
          "execution_count": 7
        }
      ]
    },
    {
      "cell_type": "code",
      "metadata": {
        "id": "TLVPiCI1U-m3",
        "colab_type": "code",
        "outputId": "af043cc4-52fe-4243-f633-cc559f5f075f",
        "colab": {
          "base_uri": "https://localhost:8080/",
          "height": 34
        }
      },
      "source": [
        "if 'Hello'[-1] == 'o':\n",
        "  print(\"We will learn soon, but data type String is also can be categorized into data type List.\")"
      ],
      "execution_count": 0,
      "outputs": [
        {
          "output_type": "stream",
          "text": [
            "We will learn soon, but data type String is also can be categorized into data type List.\n"
          ],
          "name": "stdout"
        }
      ]
    },
    {
      "cell_type": "markdown",
      "metadata": {
        "id": "B7HvilZCkRLP",
        "colab_type": "text"
      },
      "source": [
        "Data는 "
      ]
    }
  ]
}