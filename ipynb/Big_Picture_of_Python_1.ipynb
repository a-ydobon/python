{
  "nbformat": 4,
  "nbformat_minor": 0,
  "metadata": {
    "colab": {
      "name": "Big Picture of Python_1.ipynb",
      "version": "0.3.2",
      "provenance": [],
      "include_colab_link": true
    },
    "kernelspec": {
      "name": "python3",
      "display_name": "Python 3"
    }
  },
  "cells": [
    {
      "cell_type": "markdown",
      "metadata": {
        "id": "view-in-github",
        "colab_type": "text"
      },
      "source": [
        "<a href=\"https://colab.research.google.com/github/a-ydobon/python/blob/master/ipynb/Big_Picture_of_Python_1.ipynb\" target=\"_parent\"><img src=\"https://colab.research.google.com/assets/colab-badge.svg\" alt=\"Open In Colab\"/></a>"
      ]
    },
    {
      "cell_type": "markdown",
      "metadata": {
        "id": "ZuKdkgdOe-1S",
        "colab_type": "text"
      },
      "source": [
        "# Data"
      ]
    },
    {
      "cell_type": "markdown",
      "metadata": {
        "id": "x1kBzLzLfvt5",
        "colab_type": "text"
      },
      "source": [
        "## 기본형"
      ]
    },
    {
      "cell_type": "markdown",
      "metadata": {
        "id": "GpCntOnXfz-x",
        "colab_type": "text"
      },
      "source": [
        "### 숫자형"
      ]
    },
    {
      "cell_type": "code",
      "metadata": {
        "id": "UOMkkGYpjQH2",
        "colab_type": "code",
        "outputId": "068ccc71-b851-4d17-dc86-b2118637d36f",
        "colab": {
          "base_uri": "https://localhost:8080/",
          "height": 36
        }
      },
      "source": [
        "1234"
      ],
      "execution_count": 0,
      "outputs": [
        {
          "output_type": "execute_result",
          "data": {
            "text/plain": [
              "1234"
            ]
          },
          "metadata": {
            "tags": []
          },
          "execution_count": 1
        }
      ]
    },
    {
      "cell_type": "code",
      "metadata": {
        "id": "XlK5shmjjZfe",
        "colab_type": "code",
        "outputId": "c37f280f-1f79-49bf-aa6d-d1f3333c6b6b",
        "colab": {
          "base_uri": "https://localhost:8080/",
          "height": 36
        }
      },
      "source": [
        "3.1415"
      ],
      "execution_count": 0,
      "outputs": [
        {
          "output_type": "execute_result",
          "data": {
            "text/plain": [
              "3.1415"
            ]
          },
          "metadata": {
            "tags": []
          },
          "execution_count": 3
        }
      ]
    },
    {
      "cell_type": "markdown",
      "metadata": {
        "id": "B4h3F1tngtIC",
        "colab_type": "text"
      },
      "source": [
        "### 문자형"
      ]
    },
    {
      "cell_type": "code",
      "metadata": {
        "id": "3Htk4KXMjdlv",
        "colab_type": "code",
        "outputId": "c3e81601-68a2-47ca-f345-f83b318eda8b",
        "colab": {
          "base_uri": "https://localhost:8080/",
          "height": 36
        }
      },
      "source": [
        "'Hello, World!'"
      ],
      "execution_count": 0,
      "outputs": [
        {
          "output_type": "execute_result",
          "data": {
            "text/plain": [
              "'Hello, World!'"
            ]
          },
          "metadata": {
            "tags": []
          },
          "execution_count": 5
        }
      ]
    },
    {
      "cell_type": "code",
      "metadata": {
        "id": "OhbN5mcXjhMT",
        "colab_type": "code",
        "outputId": "87c2e00d-4e27-4c8f-d092-25f6db7e3db7",
        "colab": {
          "base_uri": "https://localhost:8080/",
          "height": 36
        }
      },
      "source": [
        "\"Hello\""
      ],
      "execution_count": 0,
      "outputs": [
        {
          "output_type": "execute_result",
          "data": {
            "text/plain": [
              "'Hello'"
            ]
          },
          "metadata": {
            "tags": []
          },
          "execution_count": 6
        }
      ]
    },
    {
      "cell_type": "code",
      "metadata": {
        "id": "q9yHMVCljujM",
        "colab_type": "code",
        "outputId": "161e8248-7365-40db-edfd-aa28173e937c",
        "colab": {
          "base_uri": "https://localhost:8080/",
          "height": 36
        }
      },
      "source": [
        "\"123\""
      ],
      "execution_count": 0,
      "outputs": [
        {
          "output_type": "execute_result",
          "data": {
            "text/plain": [
              "'123'"
            ]
          },
          "metadata": {
            "tags": []
          },
          "execution_count": 7
        }
      ]
    },
    {
      "cell_type": "markdown",
      "metadata": {
        "id": "OFIH7DengMUS",
        "colab_type": "text"
      },
      "source": [
        "## 복합형"
      ]
    },
    {
      "cell_type": "markdown",
      "metadata": {
        "id": "wnTFJYzWgTDZ",
        "colab_type": "text"
      },
      "source": [
        "### Lists"
      ]
    },
    {
      "cell_type": "code",
      "metadata": {
        "id": "AnohHgjAjzn6",
        "colab_type": "code",
        "outputId": "79c7adb8-1003-4f80-e85d-286d864e13c5",
        "colab": {
          "base_uri": "https://localhost:8080/",
          "height": 36
        }
      },
      "source": [
        "[2, \"a\", []]"
      ],
      "execution_count": 0,
      "outputs": [
        {
          "output_type": "execute_result",
          "data": {
            "text/plain": [
              "[2, 'a', []]"
            ]
          },
          "metadata": {
            "tags": []
          },
          "execution_count": 8
        }
      ]
    },
    {
      "cell_type": "markdown",
      "metadata": {
        "id": "FhRWEPbcgbR8",
        "colab_type": "text"
      },
      "source": [
        "### Tuple"
      ]
    },
    {
      "cell_type": "code",
      "metadata": {
        "id": "8kYP9ggtj5l6",
        "colab_type": "code",
        "outputId": "aa37064b-b7c7-4dbc-cef5-5187cb2a4bc1",
        "colab": {
          "base_uri": "https://localhost:8080/",
          "height": 36
        }
      },
      "source": [
        "(\"b\", 3, [2, \"a\"])"
      ],
      "execution_count": 0,
      "outputs": [
        {
          "output_type": "execute_result",
          "data": {
            "text/plain": [
              "('b', 3, [2, 'a'])"
            ]
          },
          "metadata": {
            "tags": []
          },
          "execution_count": 11
        }
      ]
    },
    {
      "cell_type": "markdown",
      "metadata": {
        "id": "tnJAcwtPgd4Z",
        "colab_type": "text"
      },
      "source": [
        "### Set"
      ]
    },
    {
      "cell_type": "code",
      "metadata": {
        "id": "37ppvay8kI7B",
        "colab_type": "code",
        "outputId": "8f638dfc-22f4-47d0-ecfa-1fc20091c0a6",
        "colab": {
          "base_uri": "https://localhost:8080/",
          "height": 36
        }
      },
      "source": [
        "{\"x\", 3.14, ()}"
      ],
      "execution_count": 0,
      "outputs": [
        {
          "output_type": "execute_result",
          "data": {
            "text/plain": [
              "{(), 3.14, 'x'}"
            ]
          },
          "metadata": {
            "tags": []
          },
          "execution_count": 12
        }
      ]
    },
    {
      "cell_type": "markdown",
      "metadata": {
        "id": "4S2zT7qHggzh",
        "colab_type": "text"
      },
      "source": [
        "### Dictionary"
      ]
    },
    {
      "cell_type": "code",
      "metadata": {
        "id": "RK8KVOpukUCD",
        "colab_type": "code",
        "outputId": "9e0d0460-9905-4fcc-e75a-557cc0aea502",
        "colab": {
          "base_uri": "https://localhost:8080/",
          "height": 36
        }
      },
      "source": [
        "{\"z\": \"last character\", 1: \"first number\"}"
      ],
      "execution_count": 0,
      "outputs": [
        {
          "output_type": "execute_result",
          "data": {
            "text/plain": [
              "{1: 'first number', 'z': 'last character'}"
            ]
          },
          "metadata": {
            "tags": []
          },
          "execution_count": 13
        }
      ]
    },
    {
      "cell_type": "markdown",
      "metadata": {
        "id": "3k3pbBVbfX0Y",
        "colab_type": "text"
      },
      "source": [
        "# Statements"
      ]
    },
    {
      "cell_type": "markdown",
      "metadata": {
        "id": "k1PVty9Vht3L",
        "colab_type": "text"
      },
      "source": [
        "## 단순문장(Simple statements)"
      ]
    },
    {
      "cell_type": "markdown",
      "metadata": {
        "id": "aUxePiy9iC5E",
        "colab_type": "text"
      },
      "source": [
        "### 표현식(expressions)"
      ]
    },
    {
      "cell_type": "code",
      "metadata": {
        "id": "1tUZ_6D9kxAJ",
        "colab_type": "code",
        "outputId": "6a694525-5d09-4b12-ee7d-4259e92e660e",
        "colab": {
          "base_uri": "https://localhost:8080/",
          "height": 36
        }
      },
      "source": [
        "2 + 5"
      ],
      "execution_count": 0,
      "outputs": [
        {
          "output_type": "execute_result",
          "data": {
            "text/plain": [
              "7"
            ]
          },
          "metadata": {
            "tags": []
          },
          "execution_count": 14
        }
      ]
    },
    {
      "cell_type": "code",
      "metadata": {
        "id": "Ga9Z9-6VkzxA",
        "colab_type": "code",
        "outputId": "cd5e6d54-5c09-455a-fb56-08e63b937a39",
        "colab": {
          "base_uri": "https://localhost:8080/",
          "height": 36
        }
      },
      "source": [
        "0 > 1"
      ],
      "execution_count": 0,
      "outputs": [
        {
          "output_type": "execute_result",
          "data": {
            "text/plain": [
              "False"
            ]
          },
          "metadata": {
            "tags": []
          },
          "execution_count": 15
        }
      ]
    },
    {
      "cell_type": "code",
      "metadata": {
        "id": "W73ps10qk4s4",
        "colab_type": "code",
        "outputId": "35f45c7b-9ef4-46a7-d1d2-8b42ceefd271",
        "colab": {
          "base_uri": "https://localhost:8080/",
          "height": 36
        }
      },
      "source": [
        "\"abc\" + \"cdf\""
      ],
      "execution_count": 0,
      "outputs": [
        {
          "output_type": "execute_result",
          "data": {
            "text/plain": [
              "'abccdf'"
            ]
          },
          "metadata": {
            "tags": []
          },
          "execution_count": 16
        }
      ]
    },
    {
      "cell_type": "markdown",
      "metadata": {
        "id": "fqgpa6wAiGVc",
        "colab_type": "text"
      },
      "source": [
        "### 변수 지정문(assignment statements)"
      ]
    },
    {
      "cell_type": "code",
      "metadata": {
        "id": "RrZehFopk9zi",
        "colab_type": "code",
        "colab": {}
      },
      "source": [
        "p = 3.1415"
      ],
      "execution_count": 0,
      "outputs": []
    },
    {
      "cell_type": "markdown",
      "metadata": {
        "id": "M1r8RGgriRv0",
        "colab_type": "text"
      },
      "source": [
        "### import 문장"
      ]
    },
    {
      "cell_type": "code",
      "metadata": {
        "id": "7ZGIMdRqlMlb",
        "colab_type": "code",
        "colab": {}
      },
      "source": [
        "import tensorflow as tf"
      ],
      "execution_count": 0,
      "outputs": []
    },
    {
      "cell_type": "markdown",
      "metadata": {
        "id": "63YvT3GVhyQD",
        "colab_type": "text"
      },
      "source": [
        "## 복합문장(Compound Statements)"
      ]
    },
    {
      "cell_type": "markdown",
      "metadata": {
        "id": "sdCPQqQSig6N",
        "colab_type": "text"
      },
      "source": [
        "### 조건문 if"
      ]
    },
    {
      "cell_type": "code",
      "metadata": {
        "id": "WE2cn9W5lR1M",
        "colab_type": "code",
        "outputId": "6042747f-0f17-4028-da81-87003f3dd86c",
        "colab": {
          "base_uri": "https://localhost:8080/",
          "height": 36
        }
      },
      "source": [
        "if 0 < 1:\n",
        "    print(\"Yes\")"
      ],
      "execution_count": 0,
      "outputs": [
        {
          "output_type": "stream",
          "text": [
            "Yes\n"
          ],
          "name": "stdout"
        }
      ]
    },
    {
      "cell_type": "markdown",
      "metadata": {
        "id": "5TZ-EuYXimht",
        "colab_type": "text"
      },
      "source": [
        "### 반복문 for"
      ]
    },
    {
      "cell_type": "code",
      "metadata": {
        "id": "nzlvPP8tlYkG",
        "colab_type": "code",
        "outputId": "cf74ceaa-eb5a-4f87-e2fe-8b321e84ed52",
        "colab": {
          "base_uri": "https://localhost:8080/",
          "height": 73
        }
      },
      "source": [
        "for i in [0, 1, 2]:\n",
        "    print(i)"
      ],
      "execution_count": 0,
      "outputs": [
        {
          "output_type": "stream",
          "text": [
            "0\n",
            "1\n",
            "2\n"
          ],
          "name": "stdout"
        }
      ]
    },
    {
      "cell_type": "markdown",
      "metadata": {
        "id": "Aj_ny_Lwis5-",
        "colab_type": "text"
      },
      "source": [
        "### 조건 반복문 while"
      ]
    },
    {
      "cell_type": "code",
      "metadata": {
        "id": "raJSfiwAlePv",
        "colab_type": "code",
        "colab": {}
      },
      "source": [
        "while 0 > 1:\n",
        "    print(\"Yes\")"
      ],
      "execution_count": 0,
      "outputs": []
    },
    {
      "cell_type": "code",
      "metadata": {
        "id": "IvVLzS7mlu9K",
        "colab_type": "code",
        "colab": {}
      },
      "source": [
        ""
      ],
      "execution_count": 0,
      "outputs": []
    }
  ]
}