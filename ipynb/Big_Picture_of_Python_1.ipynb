{
  "nbformat": 4,
  "nbformat_minor": 0,
  "metadata": {
    "colab": {
      "name": "Big Picture of Python_1.ipynb",
      "version": "0.3.2",
      "provenance": [],
      "toc_visible": true,
      "include_colab_link": true
    },
    "kernelspec": {
      "name": "python3",
      "display_name": "Python 3"
    }
  },
  "cells": [
    {
      "cell_type": "markdown",
      "metadata": {
        "id": "view-in-github",
        "colab_type": "text"
      },
      "source": [
        "<a href=\"https://colab.research.google.com/github/a-ydobon/python/blob/master/ipynb/Big_Picture_of_Python_1.ipynb\" target=\"_parent\"><img src=\"https://colab.research.google.com/assets/colab-badge.svg\" alt=\"Open In Colab\"/></a>"
      ]
    },
    {
      "cell_type": "markdown",
      "metadata": {
        "id": "ZuKdkgdOe-1S",
        "colab_type": "text"
      },
      "source": [
        "# Data"
      ]
    },
    {
      "cell_type": "markdown",
      "metadata": {
        "id": "x1kBzLzLfvt5",
        "colab_type": "text"
      },
      "source": [
        "## 기본형"
      ]
    },
    {
      "cell_type": "markdown",
      "metadata": {
        "id": "GpCntOnXfz-x",
        "colab_type": "text"
      },
      "source": [
        "### 숫자형"
      ]
    },
    {
      "cell_type": "markdown",
      "metadata": {
        "id": "KWIsv5Uhf3GK",
        "colab_type": "text"
      },
      "source": [
        "#### int type"
      ]
    },
    {
      "cell_type": "markdown",
      "metadata": {
        "id": "Fi654OFqgBxB",
        "colab_type": "text"
      },
      "source": [
        "#### float type"
      ]
    },
    {
      "cell_type": "markdown",
      "metadata": {
        "id": "B4h3F1tngtIC",
        "colab_type": "text"
      },
      "source": [
        "### 문자형"
      ]
    },
    {
      "cell_type": "markdown",
      "metadata": {
        "id": "OFIH7DengMUS",
        "colab_type": "text"
      },
      "source": [
        "## 복합형"
      ]
    },
    {
      "cell_type": "markdown",
      "metadata": {
        "id": "wnTFJYzWgTDZ",
        "colab_type": "text"
      },
      "source": [
        "### Lists"
      ]
    },
    {
      "cell_type": "markdown",
      "metadata": {
        "id": "FhRWEPbcgbR8",
        "colab_type": "text"
      },
      "source": [
        "### Tuple"
      ]
    },
    {
      "cell_type": "markdown",
      "metadata": {
        "id": "tnJAcwtPgd4Z",
        "colab_type": "text"
      },
      "source": [
        "### Set"
      ]
    },
    {
      "cell_type": "markdown",
      "metadata": {
        "id": "4S2zT7qHggzh",
        "colab_type": "text"
      },
      "source": [
        "### Dictionary"
      ]
    },
    {
      "cell_type": "markdown",
      "metadata": {
        "id": "3k3pbBVbfX0Y",
        "colab_type": "text"
      },
      "source": [
        "# Statements"
      ]
    }
  ]
}