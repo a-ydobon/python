{
  "nbformat": 4,
  "nbformat_minor": 0,
  "metadata": {
    "colab": {
      "name": "Big Picture of Python_1.ipynb",
      "version": "0.3.2",
      "provenance": [],
      "include_colab_link": true
    },
    "kernelspec": {
      "name": "python3",
      "display_name": "Python 3"
    }
  },
  "cells": [
    {
      "cell_type": "markdown",
      "metadata": {
        "id": "view-in-github",
        "colab_type": "text"
      },
      "source": [
        "<a href=\"https://colab.research.google.com/github/a-ydobon/python/blob/master/ipynb/Big_Picture_of_Python_1.ipynb\" target=\"_parent\"><img src=\"https://colab.research.google.com/assets/colab-badge.svg\" alt=\"Open In Colab\"/></a>"
      ]
    },
    {
      "cell_type": "markdown",
      "metadata": {
        "id": "ZuKdkgdOe-1S",
        "colab_type": "text"
      },
      "source": [
        "# Data"
      ]
    },
    {
      "cell_type": "markdown",
      "metadata": {
        "id": "x1kBzLzLfvt5",
        "colab_type": "text"
      },
      "source": [
        "## 기본형"
      ]
    },
    {
      "cell_type": "markdown",
      "metadata": {
        "id": "GpCntOnXfz-x",
        "colab_type": "text"
      },
      "source": [
        "### 숫자형"
      ]
    },
    {
      "cell_type": "code",
      "metadata": {
        "id": "UOMkkGYpjQH2",
        "colab_type": "code",
        "outputId": "c0b145b7-0109-46fa-84a2-99812d164a47",
        "colab": {
          "base_uri": "https://localhost:8080/",
          "height": 34
        }
      },
      "source": [
        "1234"
      ],
      "execution_count": 1,
      "outputs": [
        {
          "output_type": "execute_result",
          "data": {
            "text/plain": [
              "1234"
            ]
          },
          "metadata": {
            "tags": []
          },
          "execution_count": 1
        }
      ]
    },
    {
      "cell_type": "code",
      "metadata": {
        "id": "XlK5shmjjZfe",
        "colab_type": "code",
        "outputId": "594e0b15-b928-4d3d-b282-3e420f886487",
        "colab": {
          "base_uri": "https://localhost:8080/",
          "height": 34
        }
      },
      "source": [
        "3.1415"
      ],
      "execution_count": 2,
      "outputs": [
        {
          "output_type": "execute_result",
          "data": {
            "text/plain": [
              "3.1415"
            ]
          },
          "metadata": {
            "tags": []
          },
          "execution_count": 2
        }
      ]
    },
    {
      "cell_type": "markdown",
      "metadata": {
        "id": "B4h3F1tngtIC",
        "colab_type": "text"
      },
      "source": [
        "### 문자형"
      ]
    },
    {
      "cell_type": "code",
      "metadata": {
        "id": "3Htk4KXMjdlv",
        "colab_type": "code",
        "outputId": "b7ebb20e-e3f5-4c96-bc86-dfd300c1bcf4",
        "colab": {
          "base_uri": "https://localhost:8080/",
          "height": 34
        }
      },
      "source": [
        "'Hello, World!'"
      ],
      "execution_count": 3,
      "outputs": [
        {
          "output_type": "execute_result",
          "data": {
            "text/plain": [
              "'Hello, World!'"
            ]
          },
          "metadata": {
            "tags": []
          },
          "execution_count": 3
        }
      ]
    },
    {
      "cell_type": "code",
      "metadata": {
        "id": "OhbN5mcXjhMT",
        "colab_type": "code",
        "outputId": "a1fb5c99-47bf-45da-a50e-60110dad971e",
        "colab": {
          "base_uri": "https://localhost:8080/",
          "height": 34
        }
      },
      "source": [
        "\"Hello\""
      ],
      "execution_count": 4,
      "outputs": [
        {
          "output_type": "execute_result",
          "data": {
            "text/plain": [
              "'Hello'"
            ]
          },
          "metadata": {
            "tags": []
          },
          "execution_count": 4
        }
      ]
    },
    {
      "cell_type": "code",
      "metadata": {
        "id": "q9yHMVCljujM",
        "colab_type": "code",
        "outputId": "252a20b3-2db2-4799-e9b0-40358e05fc15",
        "colab": {
          "base_uri": "https://localhost:8080/",
          "height": 34
        }
      },
      "source": [
        "\"123\""
      ],
      "execution_count": 5,
      "outputs": [
        {
          "output_type": "execute_result",
          "data": {
            "text/plain": [
              "'123'"
            ]
          },
          "metadata": {
            "tags": []
          },
          "execution_count": 5
        }
      ]
    },
    {
      "cell_type": "markdown",
      "metadata": {
        "id": "OFIH7DengMUS",
        "colab_type": "text"
      },
      "source": [
        "## 복합형"
      ]
    },
    {
      "cell_type": "markdown",
      "metadata": {
        "id": "wnTFJYzWgTDZ",
        "colab_type": "text"
      },
      "source": [
        "### Lists"
      ]
    },
    {
      "cell_type": "code",
      "metadata": {
        "id": "AnohHgjAjzn6",
        "colab_type": "code",
        "outputId": "759b5987-10d6-4e65-ce8b-85a5e6ca0c9d",
        "colab": {
          "base_uri": "https://localhost:8080/",
          "height": 34
        }
      },
      "source": [
        "[2, \"a\", []]"
      ],
      "execution_count": 6,
      "outputs": [
        {
          "output_type": "execute_result",
          "data": {
            "text/plain": [
              "[2, 'a', []]"
            ]
          },
          "metadata": {
            "tags": []
          },
          "execution_count": 6
        }
      ]
    },
    {
      "cell_type": "markdown",
      "metadata": {
        "id": "FhRWEPbcgbR8",
        "colab_type": "text"
      },
      "source": [
        "### Tuple"
      ]
    },
    {
      "cell_type": "code",
      "metadata": {
        "id": "8kYP9ggtj5l6",
        "colab_type": "code",
        "outputId": "9600ed24-42ae-4f10-c90e-0a93ec657aed",
        "colab": {
          "base_uri": "https://localhost:8080/",
          "height": 34
        }
      },
      "source": [
        "(\"b\", 3, [2, \"a\"])"
      ],
      "execution_count": 7,
      "outputs": [
        {
          "output_type": "execute_result",
          "data": {
            "text/plain": [
              "('b', 3, [2, 'a'])"
            ]
          },
          "metadata": {
            "tags": []
          },
          "execution_count": 7
        }
      ]
    },
    {
      "cell_type": "markdown",
      "metadata": {
        "id": "tnJAcwtPgd4Z",
        "colab_type": "text"
      },
      "source": [
        "### Set"
      ]
    },
    {
      "cell_type": "code",
      "metadata": {
        "id": "37ppvay8kI7B",
        "colab_type": "code",
        "outputId": "fa8caa93-f6b0-4c63-a283-9a6765da89bb",
        "colab": {
          "base_uri": "https://localhost:8080/",
          "height": 34
        }
      },
      "source": [
        "{\"x\", 3.14, ()}"
      ],
      "execution_count": 8,
      "outputs": [
        {
          "output_type": "execute_result",
          "data": {
            "text/plain": [
              "{(), 3.14, 'x'}"
            ]
          },
          "metadata": {
            "tags": []
          },
          "execution_count": 8
        }
      ]
    },
    {
      "cell_type": "markdown",
      "metadata": {
        "id": "4S2zT7qHggzh",
        "colab_type": "text"
      },
      "source": [
        "### Dictionary"
      ]
    },
    {
      "cell_type": "code",
      "metadata": {
        "id": "RK8KVOpukUCD",
        "colab_type": "code",
        "outputId": "767483cd-cd62-4d5f-971a-8d01d48ea2a9",
        "colab": {
          "base_uri": "https://localhost:8080/",
          "height": 34
        }
      },
      "source": [
        "{\"z\": \"last character\", 1: \"first number\"}"
      ],
      "execution_count": 9,
      "outputs": [
        {
          "output_type": "execute_result",
          "data": {
            "text/plain": [
              "{1: 'first number', 'z': 'last character'}"
            ]
          },
          "metadata": {
            "tags": []
          },
          "execution_count": 9
        }
      ]
    },
    {
      "cell_type": "markdown",
      "metadata": {
        "id": "3k3pbBVbfX0Y",
        "colab_type": "text"
      },
      "source": [
        "# Statements"
      ]
    },
    {
      "cell_type": "markdown",
      "metadata": {
        "id": "k1PVty9Vht3L",
        "colab_type": "text"
      },
      "source": [
        "## 단순문장(Simple statements)"
      ]
    },
    {
      "cell_type": "markdown",
      "metadata": {
        "id": "aUxePiy9iC5E",
        "colab_type": "text"
      },
      "source": [
        "### 표현식(expressions)"
      ]
    },
    {
      "cell_type": "code",
      "metadata": {
        "id": "1tUZ_6D9kxAJ",
        "colab_type": "code",
        "colab": {}
      },
      "source": [
        "2 + 5"
      ],
      "execution_count": 0,
      "outputs": []
    },
    {
      "cell_type": "code",
      "metadata": {
        "id": "Ga9Z9-6VkzxA",
        "colab_type": "code",
        "colab": {}
      },
      "source": [
        "0 > 1"
      ],
      "execution_count": 0,
      "outputs": []
    },
    {
      "cell_type": "code",
      "metadata": {
        "id": "W73ps10qk4s4",
        "colab_type": "code",
        "colab": {}
      },
      "source": [
        "\"abc\" + \"cdf\""
      ],
      "execution_count": 0,
      "outputs": []
    },
    {
      "cell_type": "markdown",
      "metadata": {
        "id": "fqgpa6wAiGVc",
        "colab_type": "text"
      },
      "source": [
        "### 변수 지정문(assignment statements)"
      ]
    },
    {
      "cell_type": "code",
      "metadata": {
        "id": "RrZehFopk9zi",
        "colab_type": "code",
        "colab": {}
      },
      "source": [
        "p = 3.1415"
      ],
      "execution_count": 0,
      "outputs": []
    },
    {
      "cell_type": "markdown",
      "metadata": {
        "id": "M1r8RGgriRv0",
        "colab_type": "text"
      },
      "source": [
        "### import 문장"
      ]
    },
    {
      "cell_type": "code",
      "metadata": {
        "id": "7ZGIMdRqlMlb",
        "colab_type": "code",
        "colab": {}
      },
      "source": [
        "import tensorflow as tf"
      ],
      "execution_count": 0,
      "outputs": []
    },
    {
      "cell_type": "markdown",
      "metadata": {
        "id": "63YvT3GVhyQD",
        "colab_type": "text"
      },
      "source": [
        "## 복합문장(Compound Statements)"
      ]
    },
    {
      "cell_type": "markdown",
      "metadata": {
        "id": "sdCPQqQSig6N",
        "colab_type": "text"
      },
      "source": [
        "### 조건문 if"
      ]
    },
    {
      "cell_type": "code",
      "metadata": {
        "id": "WE2cn9W5lR1M",
        "colab_type": "code",
        "colab": {}
      },
      "source": [
        "if 0 < 1:\n",
        "    print(\"Yes\")"
      ],
      "execution_count": 0,
      "outputs": []
    },
    {
      "cell_type": "markdown",
      "metadata": {
        "id": "5TZ-EuYXimht",
        "colab_type": "text"
      },
      "source": [
        "### 반복문 for"
      ]
    },
    {
      "cell_type": "code",
      "metadata": {
        "id": "nzlvPP8tlYkG",
        "colab_type": "code",
        "colab": {}
      },
      "source": [
        "for i in [0, 1, 2]:\n",
        "    print(i)"
      ],
      "execution_count": 0,
      "outputs": []
    },
    {
      "cell_type": "markdown",
      "metadata": {
        "id": "Aj_ny_Lwis5-",
        "colab_type": "text"
      },
      "source": [
        "### 조건 반복문 while"
      ]
    },
    {
      "cell_type": "code",
      "metadata": {
        "id": "raJSfiwAlePv",
        "colab_type": "code",
        "colab": {}
      },
      "source": [
        "while 0 > 1:\n",
        "    print(\"Yes\")"
      ],
      "execution_count": 0,
      "outputs": []
    }
  ]
}