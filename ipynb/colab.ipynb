{
  "nbformat": 4,
  "nbformat_minor": 0,
  "metadata": {
    "colab": {
      "name": "colab.ipynb",
      "version": "0.3.2",
      "provenance": [],
      "include_colab_link": true
    },
    "kernelspec": {
      "name": "python3",
      "display_name": "Python 3"
    }
  },
  "cells": [
    {
      "cell_type": "markdown",
      "metadata": {
        "id": "view-in-github",
        "colab_type": "text"
      },
      "source": [
        "<a href=\"https://colab.research.google.com/github/a-ydobon/python/blob/master/ipynb/colab.ipynb\" target=\"_parent\"><img src=\"https://colab.research.google.com/assets/colab-badge.svg\" alt=\"Open In Colab\"/></a>"
      ]
    },
    {
      "cell_type": "code",
      "metadata": {
        "id": "U4LvL_MIcJ20",
        "colab_type": "code",
        "colab": {}
      },
      "source": [
        ""
      ],
      "execution_count": 0,
      "outputs": []
    },
    {
      "cell_type": "markdown",
      "metadata": {
        "id": "uYfDQQRNcO8Y",
        "colab_type": "text"
      },
      "source": [
        "# 파이썬 배우기"
      ]
    },
    {
      "cell_type": "markdown",
      "metadata": {
        "id": "a4hoq2gWcQWL",
        "colab_type": "text"
      },
      "source": [
        "## 파이썬을 배우려면 개발환경이라는 것이 필요합니다. "
      ]
    },
    {
      "cell_type": "markdown",
      "metadata": {
        "id": "ZOB3xGX9cVSF",
        "colab_type": "text"
      },
      "source": [
        "### 다른 강의에서는 개발환경을 설정하는데 많은 시간을 소비합니다. 그리고 복잡합니다."
      ]
    },
    {
      "cell_type": "markdown",
      "metadata": {
        "id": "lq29kPwrcZwR",
        "colab_type": "text"
      },
      "source": [
        "#### 우리는 그렇게 하지 않습니다. 그냥 크롬 브라우저와 gmail 계정만 있으면 됩니다."
      ]
    },
    {
      "cell_type": "markdown",
      "metadata": {
        "id": "l0GBmmukcdvL",
        "colab_type": "text"
      },
      "source": [
        "##### Colab 이라는 환경을 이용할 것입니다.  구글에서 검색하면 나옵니다."
      ]
    },
    {
      "cell_type": "markdown",
      "metadata": {
        "id": "8kAqcnVzchbR",
        "colab_type": "text"
      },
      "source": [
        "이제 시작합니다."
      ]
    },
    {
      "cell_type": "code",
      "metadata": {
        "id": "-7Ny5-7Cck0p",
        "colab_type": "code",
        "colab": {}
      },
      "source": [
        ""
      ],
      "execution_count": 0,
      "outputs": []
    }
  ]
}