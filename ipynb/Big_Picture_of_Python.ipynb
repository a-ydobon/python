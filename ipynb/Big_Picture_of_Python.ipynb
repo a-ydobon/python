{
  "nbformat": 4,
  "nbformat_minor": 0,
  "metadata": {
    "colab": {
      "name": "Big Picture of Python.ipynb",
      "version": "0.3.2",
      "provenance": [],
      "include_colab_link": true
    },
    "kernelspec": {
      "name": "python3",
      "display_name": "Python 3"
    }
  },
  "cells": [
    {
      "cell_type": "markdown",
      "metadata": {
        "id": "view-in-github",
        "colab_type": "text"
      },
      "source": [
        "<a href=\"https://colab.research.google.com/github/a-ydobon/python/blob/master/ipynb/Big_Picture_of_Python.ipynb\" target=\"_parent\"><img src=\"https://colab.research.google.com/assets/colab-badge.svg\" alt=\"Open In Colab\"/></a>"
      ]
    },
    {
      "cell_type": "markdown",
      "metadata": {
        "id": "HZbLOX8_Zl9H",
        "colab_type": "text"
      },
      "source": [
        "# 어떻게 하면 Python 프로그래밍을 배울 수 있을까요?"
      ]
    },
    {
      "cell_type": "markdown",
      "metadata": {
        "id": "viqh81lNaEoj",
        "colab_type": "text"
      },
      "source": [
        "## 여러분이 한국어를 어떻게 배웠는지 생각해 보면 됩니다."
      ]
    },
    {
      "cell_type": "markdown",
      "metadata": {
        "id": "nJ91pUmgaUhh",
        "colab_type": "text"
      },
      "source": [
        "### 한국어는 문장으로 구성되어 있습니다. \n",
        "### 그리고 문장을 구성하는 것은 단어입니다.\n",
        "### 그런데, 어떤 단어는 진짜 의미를 가지고 있지만, 어떤 단어는 문법적 이유 때문에 사용합니다."
      ]
    },
    {
      "cell_type": "markdown",
      "metadata": {
        "id": "CWwQs-L9W97E",
        "colab_type": "text"
      },
      "source": [
        "#### Python 프로그램도 문장(statements)으로 구성되어 있습니다. \n",
        "#### 그리고 문장을 구성하는 것은 데이터(Data)라는 객체와, 문법적 의미를 가지고 있는 키워드(keywords)입니다."
      ]
    }
  ]
}